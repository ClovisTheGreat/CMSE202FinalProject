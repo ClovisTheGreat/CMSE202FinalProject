{
 "cells": [
  {
   "cell_type": "code",
   "execution_count": 1,
   "id": "e8f9d265",
   "metadata": {},
   "outputs": [],
   "source": [
    "import numpy as np\n",
    "import matplotlib.pyplot as plt\n",
    "import pandas as pd\n",
    "import random as rd\n",
    "import time"
   ]
  },
  {
   "cell_type": "code",
   "execution_count": null,
   "id": "02b11767",
   "metadata": {},
   "outputs": [],
   "source": [
    "class Vehicle(self):\n",
    "    '''General vehicle class'''\n",
    "    \n",
    "    def __init__(self, pos=(-1,0), vel=(.1,0), risky=False):\n",
    "        '''Defines the vehicle'''\n",
    "        self.position = pos\n",
    "        self.velocity = vel\n",
    "        self.risky = risky\n",
    "\n",
    "    # updates position based on velocity\n",
    "    def move(self):\n",
    "        self.position = (self.position[0]+self.velocity[0], self.position[1]+self.velocity[1])\n",
    "    \n",
    "    # sets position of vehicle\n",
    "    def set_pos(self, pos):\n",
    "        self.position = pos\n",
    "        \n",
    "    # gets position of vehicle\n",
    "    def get_pos(self):\n",
    "        return self.position\n",
    "    \n",
    "    # sets velocity of vehicle\n",
    "    def set_vel(self, vel):\n",
    "        self.velocity = vel\n",
    "        \n",
    "    # gets velocity of vehicle\n",
    "    def get_vel(self):\n",
    "        return self.velocity"
   ]
  },
  {
   "cell_type": "code",
   "execution_count": null,
   "id": "860ff45d",
   "metadata": {},
   "outputs": [],
   "source": [
    "class Intersection():\n",
    "    '''General intersection class'''\n",
    "    \n",
    "    def __init__(self):\n",
    "        '''Defines the intersection'''\n",
    "        self.vehicles = []\n",
    "    \n",
    "    # adds one vehicle to the intersection\n",
    "    def add_vehicle(self, vehicle):\n",
    "        self.vehicles.append(vehicle)\n",
    "    \n",
    "    # graphs a static visual of the intersection, roads, and vehicles\n",
    "    def show(self):\n",
    "        pass\n",
    "    \n",
    "    # advances the vehicles generally for all intersections\n",
    "    def timestep(self):\n",
    "        pass\n",
    "    \n",
    "    # loops over timesteps while displaying snapshots\n",
    "    def animate(self):\n",
    "        pass\n"
   ]
  },
  {
   "cell_type": "code",
   "execution_count": null,
   "id": "b37c3cbc",
   "metadata": {},
   "outputs": [],
   "source": [
    "class Stopsign(Intersection):    \n",
    "    '''Subclass of Intersection that carries behavior of the 4-way stop'''\n",
    "    \n",
    "    def __init__(self):\n",
    "        super().__init__()\n",
    "    \n",
    "    # includes unique behavior of 4-way stop\n",
    "    def timestep(self):\n",
    "        pass"
   ]
  },
  {
   "cell_type": "code",
   "execution_count": null,
   "id": "ac4b7976",
   "metadata": {},
   "outputs": [],
   "source": [
    "class Stoplight(Intersection):    \n",
    "    '''Subclass of Intersection that carries behavior of the stoplight'''\n",
    "    \n",
    "    def __init__(self):\n",
    "        super().__init__()\n",
    "    \n",
    "    # includes unique behavior of stoplight\n",
    "    def timestep(self):\n",
    "        pass"
   ]
  }
 ],
 "metadata": {
  "kernelspec": {
   "display_name": "Python 3",
   "language": "python",
   "name": "python3"
  },
  "language_info": {
   "codemirror_mode": {
    "name": "ipython",
    "version": 3
   },
   "file_extension": ".py",
   "mimetype": "text/x-python",
   "name": "python",
   "nbconvert_exporter": "python",
   "pygments_lexer": "ipython3",
   "version": "3.8.8"
  }
 },
 "nbformat": 4,
 "nbformat_minor": 5
}
