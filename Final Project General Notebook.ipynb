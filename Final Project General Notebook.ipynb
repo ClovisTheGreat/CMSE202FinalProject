{
 "cells": [
  {
   "cell_type": "markdown",
   "id": "3a02e56a",
   "metadata": {},
   "source": [
    "# Traffic Final Project\n",
    "\n",
    "## CMSE 202"
   ]
  },
  {
   "cell_type": "code",
   "execution_count": 1,
   "id": "e8f9d265",
   "metadata": {},
   "outputs": [],
   "source": [
    "import numpy as np\n",
    "import matplotlib.pyplot as plt\n",
    "import pandas as pd\n",
    "import random as rd\n",
    "from random import choice\n",
    "import time\n",
    "from IPython.display import display, clear_output\n",
    "import math"
   ]
  },
  {
   "cell_type": "markdown",
   "id": "ffcb8926",
   "metadata": {},
   "source": [
    "## General Vehicle/Intersection Code"
   ]
  },
  {
   "cell_type": "markdown",
   "id": "4fab94ef",
   "metadata": {},
   "source": [
    "This code approach tracks and progresses the movement of vehicles using parametic equations. This way, instead of using imprecise velocity update equations, the vehicles will stay exactly on one path and all that has to be tracked is the distance along this path. It is important to note that the variable \"t\" is used NOT to represent time, but rather represents the distance the vehicle is along its path."
   ]
  },
  {
   "cell_type": "markdown",
   "id": "093b6092",
   "metadata": {},
   "source": [
    ".5 = .5 in the x or y direction (middle of the road starting from the bottom), oriented up\n",
    "\n",
    "-.5 = .5 in the x or y direction, oriented down\n",
    "\n",
    "t-10 = go from left to right in the x or y direction\n",
    "\n",
    "10-t = go from right to left in the x or y direction\n",
    "\n"
   ]
  },
  {
   "cell_type": "code",
   "execution_count": 2,
   "id": "b57ea15c",
   "metadata": {},
   "outputs": [],
   "source": [
    "'''Vehicle Path Equations'''\n",
    "\n",
    "'''Inputs a single coordinate along a \n",
    "vehicle's path and returns parametrized \n",
    "x and y coordinates'''\n",
    "\n",
    "# Straight Paths\n",
    "def down_up(t):\n",
    "    return .5, t-10\n",
    "\n",
    "def left_right(t):\n",
    "    return t-10, -.5\n",
    "\n",
    "def up_down(t):\n",
    "    return -.5, 10-t\n",
    "\n",
    "def right_left(t):\n",
    "    return 10-t, .5\n",
    "\n",
    "# Right Turns\n",
    "def down_right(t):\n",
    "    if t <= 9:\n",
    "        return .5, -10+t\n",
    "    elif t < 9+np.pi/4:\n",
    "        return 1 - .5*np.cos(2*t-18), -1 + .5*np.sin(2*t-18)\n",
    "    else:\n",
    "        return t-8-np.pi/4, -.5\n",
    "    \n",
    "def left_down(t):\n",
    "    if t <= 9:\n",
    "        return -10+t, -.5\n",
    "    elif t < 9+np.pi/4:\n",
    "        return -1 + .5*np.sin(2*t-18), -1 + .5*np.cos(2*t-18)\n",
    "    else:\n",
    "        return -.5, 8+np.pi/4-t\n",
    "    \n",
    "def up_left(t):\n",
    "    if t <= 9:\n",
    "        return -.5, 10-t\n",
    "    elif t < 9+np.pi/4:\n",
    "        return -1 + .5*np.cos(2*t-18), 1 - .5*np.sin(2*t-18)\n",
    "    else:\n",
    "        return 8+np.pi/4-t, .5\n",
    "    \n",
    "def right_up(t):\n",
    "    if t <= 9:\n",
    "        return 10-t, .5\n",
    "    elif t < 9+np.pi/4:\n",
    "        return 1 - .5*np.sin(2*t-18), 1 - .5*np.cos(2*t-18)\n",
    "    else:\n",
    "        return .5, t-8-np.pi/4\n",
    "    \n",
    "# Left Turns\n",
    "def down_left(t):\n",
    "    if t <= 9:\n",
    "        return .5, -10+t\n",
    "    elif t < 9+3*np.pi/4:\n",
    "        return -1 + 1.5*np.cos(2*(t-9)/3), -1 + 1.5*np.sin(2*(t-9)/3)\n",
    "    else:\n",
    "        return 8+3*np.pi/4 - t, .5\n",
    "    \n",
    "def left_up(t):\n",
    "    if t <= 9:\n",
    "        return -10+t, -.5\n",
    "    elif t < 9+3*np.pi/4:\n",
    "        return -1 + 1.5*np.sin(2*(t-9)/3), 1 - 1.5*np.cos(2*(t-9)/3)\n",
    "    else:\n",
    "        return .5, t-8-3*np.pi/4\n",
    "    \n",
    "def up_right(t):\n",
    "    if t <= 9:\n",
    "        return -.5, 10-t\n",
    "    elif t < 9+3*np.pi/4:\n",
    "        return 1 - 1.5*np.cos(2*(t-9)/3), 1 - 1.5*np.sin(2*(t-9)/3)\n",
    "    else:\n",
    "        return -8-3*np.pi/4 + t, -.5\n",
    "    \n",
    "def right_down(t):\n",
    "    if t <= 9:\n",
    "        return 10-t, .5\n",
    "    elif t < 9+3*np.pi/4:\n",
    "        return 1 - 1.5*np.sin(2*(t-9)/3), -1 + 1.5*np.cos(2*(t-9)/3)\n",
    "    else:\n",
    "        return -.5, -t+8+3*np.pi/4\n",
    "    "
   ]
  },
  {
   "cell_type": "markdown",
   "id": "cb773a0e",
   "metadata": {},
   "source": [
    "### Vehicle Class:\n",
    "\n",
    "#### Attributes:\n",
    "1. t - float: distance along the path\n",
    "2. stop - boolean: if True, the vehicle will choose to stop when approaching an intersection (handled by Intersection Class)\n",
    "3. maxspeed - float: top speed vehicle will travel out during simulation (units per timestep)\n",
    "4. speed - float: current speed of vehicle (units per timestep)\n",
    "5. destination - string: location the vehicle is heading to (\"up\", \"right\", \"down\", \"left\")\n",
    "6. equation - function: parameterized path equation of vehicle\n",
    "7. position - tuple: x and y coordinates of vehicle\n"
   ]
  },
  {
   "cell_type": "code",
   "execution_count": 3,
   "id": "02b11767",
   "metadata": {},
   "outputs": [],
   "source": [
    "class Vehicle():\n",
    "    '''General vehicle class'''\n",
    "    \n",
    "    def __init__(self, maxspeed=.1, loc='down', dest='right', random=False):\n",
    "        '''\n",
    "           Defines the vehicle\n",
    "        \n",
    "           maxspeed - float : maximum speed the car will travel\n",
    "           loc - string : location the vehicle will spawn\n",
    "           dest - string : location the vehicle will travel to\n",
    "           random - boolean: whether or not the vehicle will be assigned random\n",
    "                             loc and dest or if the parameters will be used.\n",
    "        '''\n",
    "        self.t = 0   \n",
    "        self.stop = True\n",
    "        if random:\n",
    "            # randomly selects spawn location and destination\n",
    "            options = [\"up\", \"right\", \"down\", \"left\"]\n",
    "            location = choice(options)\n",
    "            options.remove(location) \n",
    "            self.destination = choice(options)\n",
    "            self.equation = eval(location+\"_\"+self.destination) # assigns appriopriate path equation \n",
    "            self.position = self.equation(0)\n",
    "            self.maxspeed = maxspeed + np.random.randn()*.02 # adds random variation based on normal distribution\n",
    "            self.speed = self.maxspeed \n",
    "\n",
    "        else:\n",
    "            self.maxspeed = maxspeed\n",
    "            self.speed = maxspeed\n",
    "            self.destination = dest\n",
    "            self.equation = eval(loc+\"_\"+dest)\n",
    "            self.position = self.equation(0)\n",
    "\n",
    "    def move(self):\n",
    "        '''Updates position and t based on speed'''\n",
    "        self.t += self.speed\n",
    "        self.position = self.equation(self.t)\n",
    "    \n",
    "    def set_pos(self, pos):\n",
    "        '''Sets position of vehicle'''\n",
    "        self.position = pos\n",
    "        \n",
    "    def get_pos(self):\n",
    "        '''Gets position of vehicle'''\n",
    "        return self.position\n",
    "    \n",
    "    def set_t(self, t):\n",
    "        '''Sets t of vehicle'''\n",
    "        self.t = t\n",
    "        \n",
    "    def get_t(self):\n",
    "        '''Gets t of vehicle'''\n",
    "        return self.t\n",
    "    \n",
    "    def set_stop(self, stop):\n",
    "        '''Sets stop value of vehicle'''\n",
    "        self.stop = stop\n",
    "        \n",
    "    def get_stop(self):\n",
    "        '''Gets stop value of vehicle'''\n",
    "        return self.stop\n",
    "    \n",
    "    def set_speed(self, s):\n",
    "        '''Sets speed of vehicle'''\n",
    "        self.speed = s\n",
    "        \n",
    "    def get_speed(self):\n",
    "        '''Gets speed of vehicle'''\n",
    "        return self.speed\n",
    "    \n",
    "    def set_maxspeed(self, s):\n",
    "        '''Sets max speed of vehicle'''\n",
    "        self.maxspeed = s\n",
    "        \n",
    "    def get_maxspeed(self):\n",
    "        '''Gets max speed of vehicle'''\n",
    "        return self.maxspeed\n",
    "    \n",
    "    def set_dest(self, dest):\n",
    "        '''Sets destination of vehicle'''\n",
    "        self.destination = dest\n",
    "    \n",
    "    def get_dest(self):\n",
    "        '''Gets destination of vehicle'''\n",
    "        return self.destination\n",
    "    \n",
    "    def get_loc(self):\n",
    "        '''Returns part of the intersection the vehicle is in'''\n",
    "        x, y = self.position \n",
    "        if y > 1:\n",
    "            return ('up', 0)\n",
    "        elif x > 1:\n",
    "            return ('right', 1)\n",
    "        elif y < -1:\n",
    "            return ('down', 2)\n",
    "        elif x < -1:\n",
    "            return ('left', 3)\n",
    "        else:\n",
    "            return ('center', 4)"
   ]
  },
  {
   "cell_type": "markdown",
   "id": "2ab0a2ef",
   "metadata": {},
   "source": [
    "### Intersection Class:\n",
    "\n",
    "#### Attributes:\n",
    "1. vehicles - list of vehicles objs: holds all vehicles current in intersection"
   ]
  },
  {
   "cell_type": "code",
   "execution_count": 4,
   "id": "860ff45d",
   "metadata": {},
   "outputs": [],
   "source": [
    "class Intersection():\n",
    "    '''General intersection class'''\n",
    "    \n",
    "    def __init__(self, n=0):\n",
    "        '''Defines the intersection'''\n",
    "        self.vehicles = []\n",
    "        for i in range(n):\n",
    "            self.vehicles.append(Vehicle(random=True))\n",
    "            \n",
    "    def add_vehicle(self, vehicle):\n",
    "        '''Adds one vehicle to the intersection'''\n",
    "        self.vehicles.append(vehicle)\n",
    "        \n",
    "    def add(self, vehicle):\n",
    "        '''Adds one vehicle to the intersection'''\n",
    "        self.vehicles.append(vehicle)\n",
    "        \n",
    "    def get_vehicles(self):\n",
    "        '''Returns list of vehicles'''\n",
    "        return self.vehicles\n",
    "    \n",
    "    def show(self):\n",
    "        '''Graphs a static visual of the intersection, roads, and vehicles'''\n",
    "        \n",
    "        # draws road\n",
    "        plt.gca().add_patch(plt.Rectangle((-10,-1), 20, 2, fc='grey'))\n",
    "        plt.gca().add_patch(plt.Rectangle((-1,-10), 2, 20, fc='grey'))\n",
    "        \n",
    "        plt.gca().add_patch(plt.Rectangle((-10,-10), 9, 9, fc='green', ec='black'))\n",
    "        plt.gca().add_patch(plt.Rectangle((1,-10), 9, 9, fc='green', ec='black'))\n",
    "        plt.gca().add_patch(plt.Rectangle((-10,1), 9, 9, fc='green', ec='black'))\n",
    "        plt.gca().add_patch(plt.Rectangle((1,1), 9, 9, fc='green', ec='black'))\n",
    "        \n",
    "        plt.gca().add_patch(plt.Rectangle((-9,-.0625), 1.5, .125, fc='yellow'))\n",
    "        plt.gca().add_patch(plt.Rectangle((-5,-.0625), 1.5, .125, fc='yellow'))\n",
    "        \n",
    "        plt.gca().add_patch(plt.Rectangle((7.5,-.0625), 1.5, .125, fc='yellow'))\n",
    "        plt.gca().add_patch(plt.Rectangle((3.5,-.0625), 1.5, .125, fc='yellow'))\n",
    "        \n",
    "        plt.gca().add_patch(plt.Rectangle((-.0625, -9), .125, 1.5, fc='yellow'))\n",
    "        plt.gca().add_patch(plt.Rectangle((-.0625, -5), .125, 1.5, fc='yellow'))\n",
    "        \n",
    "        plt.gca().add_patch(plt.Rectangle((-.0625, 7.5), .125, 1.5, fc='yellow'))\n",
    "        plt.gca().add_patch(plt.Rectangle((-.0625, 3.5), .125, 1.5, fc='yellow'))\n",
    "        \n",
    "        # draws vehicles\n",
    "        for v in self.vehicles:\n",
    "            x,y = v.get_pos()\n",
    "            plt.plot(x, y, 'rs', markersize=15, markeredgecolor='black') \n",
    "        \n",
    "        # limits plot to 20x20 area\n",
    "        plt.xlim([-10, 10])\n",
    "        plt.ylim([-10, 10])\n",
    "        \n",
    "        # removes tick marks\n",
    "        plt.tick_params(axis='both', which='both',\n",
    "                bottom=False, top=False, left=False, right=False,\n",
    "                labelbottom=False, labelleft=False)\n",
    "    \n",
    "    def timestep(self):\n",
    "        '''Advances the vehicles generally for all intersections'''\n",
    "        for v in self.vehicles:\n",
    "            v.move()\n",
    "            if v.get_t() > 22:\n",
    "                self.vehicles.remove(v)\n",
    "    \n",
    "    def animate(self, n=1):\n",
    "        '''Loops over timesteps while displaying snapshots'''\n",
    "        fig = plt.figure(figsize=(10,10))\n",
    "        \n",
    "        for i in range(n):\n",
    "            \n",
    "            # displays\n",
    "            self.show()\n",
    "#             time.sleep(0.01)\n",
    "            clear_output(wait=True)\n",
    "            display(fig)\n",
    "            fig.clear()\n",
    "            \n",
    "            # advances simulation\n",
    "            self.timestep()\n",
    "            \n",
    "        plt.close()\n",
    "    \n",
    "    def simulate(self, n=500, spawn_chance=.02):\n",
    "        '''simulates traffic using animate while spawning vehicles'''\n",
    "        for i in range(n):\n",
    "            if rd.random() < spawn_chance:\n",
    "                self.add(Vehicle(random=True))\n",
    "            self.animate()\n",
    "            \n",
    "        "
   ]
  },
  {
   "cell_type": "markdown",
   "id": "6f7c7184",
   "metadata": {},
   "source": [
    "## Stop Sign"
   ]
  },
  {
   "cell_type": "code",
   "execution_count": 5,
   "id": "b37c3cbc",
   "metadata": {},
   "outputs": [],
   "source": [
    "class Stopsign(Intersection):    \n",
    "    '''Subclass of Intersection that carries behavior of the 4-way stop'''\n",
    "    \n",
    "    def __init__(self, n=0):\n",
    "        '''Defines Stopsign object'''\n",
    "        super().__init__(n)\n",
    "        self.busy = False\n",
    "        \n",
    "    def show(self):\n",
    "        super().show()\n",
    "        plt.gca().add_patch(plt.Rectangle((2.45, 1), .1, 1, fc='black'))\n",
    "        plt.gca().add_patch(plt.Polygon(\n",
    "            np.array([[2.293,2], [2,2.293], [2,2.707], [2.293, 3], [2.707, 3], [3,2.707], [3,2.293], [2.707, 2]]), \n",
    "            closed=True, fc='red', ec='black'))\n",
    "        \n",
    "    \n",
    "    def timestep(self):\n",
    "        '''Includes unique behavior of 4-way stop'''\n",
    "        if self.busy == True:\n",
    "            self.busy = \"inter\"\n",
    "        elif self.busy == \"inter\":\n",
    "            self.busy = False\n",
    "\n",
    "        for v in self.vehicles:\n",
    "\n",
    "            pos = v.get_pos()\n",
    "            t = v.get_t()\n",
    "            speed = v.get_speed()\n",
    "            maxspeed = v.get_maxspeed()\n",
    "\n",
    "            # braking for stop sign\n",
    "            if t > 6.5 and t < 8.2:\n",
    "                v.set_speed((8.5-t)*maxspeed/2)\n",
    "                \n",
    "            # stopped or accelerating\n",
    "            elif t >= 8.2 and t < 11.6:\n",
    "                if speed == 0 and self.busy == False:\n",
    "                    v.set_stop(False)\n",
    "                if v.get_stop():\n",
    "                    v.set_speed(0)\n",
    "                else:\n",
    "                    self.busy = True\n",
    "                    v.set_speed((t-7.1)*maxspeed/4.5)\n",
    "            \n",
    "            # max speed driving\n",
    "            elif t >= 11.6 or t <= 6.5:\n",
    "                v.set_speed(maxspeed)\n",
    "                        \n",
    "            # braking for vehicle\n",
    "            others = self.vehicles[:]\n",
    "            others.remove(v)\n",
    "            for c in others:\n",
    "                # if on same axis, close together, and behind the other vehicle, slow down\n",
    "                if (c.get_pos()[0]==pos[0] or c.get_pos()[1]==pos[1]) and (math.dist(c.get_pos(),pos)<2) and (t<c.get_t()):\n",
    "                    new_speed = (math.dist(c.get_pos(),pos)-1)*maxspeed\n",
    "                    if new_speed < v.get_speed():\n",
    "                        v.set_speed(new_speed)\n",
    "            \n",
    "            v.move()\n",
    "            \n",
    "            if t > 22:\n",
    "                self.vehicles.remove(v)\n",
    "                     \n",
    "            "
   ]
  },
  {
   "cell_type": "code",
   "execution_count": 6,
   "id": "658fd69e",
   "metadata": {},
   "outputs": [
    {
     "data": {
      "image/png": "[encoded data removed]",
      "text/plain": [
       "<Figure size 504x504 with 1 Axes>"
      ]
     },
     "metadata": {},
     "output_type": "display_data"
    }
   ],
   "source": [
    "# Show image\n",
    "road = Stopsign(3)\n",
    "plt.figure(figsize=(7,7))\n",
    "road.show()"
   ]
  },
  {
   "cell_type": "code",
   "execution_count": 7,
   "id": "031fd69e",
   "metadata": {},
   "outputs": [
    {
     "data": {
      "image/png": "[encoded data removed]",
      "text/plain": [
       "<Figure size 720x720 with 1 Axes>"
      ]
     },
     "metadata": {},
     "output_type": "display_data"
    }
   ],
   "source": [
    "# Simulate two cars\n",
    "road = Stopsign()\n",
    "road.add_vehicle(Vehicle(maxspeed=.1, loc='down', dest='left', random=False))\n",
    "road.animate(30)\n",
    "road.add_vehicle(Vehicle(maxspeed=.1, loc='right', dest='up', random=False))\n",
    "road.animate(260)"
   ]
  },
  {
   "cell_type": "code",
   "execution_count": 9,
   "id": "de98c9b8",
   "metadata": {},
   "outputs": [
    {
     "data": {
      "image/png": "[encoded data removed]",
      "text/plain": [
       "<Figure size 720x720 with 1 Axes>"
      ]
     },
     "metadata": {},
     "output_type": "display_data"
    },
    {
     "ename": "KeyboardInterrupt",
     "evalue": "",
     "output_type": "error",
     "traceback": [
      "\u001b[0;31m---------------------------------------------------------------------------\u001b[0m",
      "\u001b[0;31mKeyboardInterrupt\u001b[0m                         Traceback (most recent call last)",
      "Input \u001b[0;32mIn [9]\u001b[0m, in \u001b[0;36m<cell line: 3>\u001b[0;34m()\u001b[0m\n\u001b[1;32m      1\u001b[0m \u001b[38;5;66;03m# Simulate traffic\u001b[39;00m\n\u001b[1;32m      2\u001b[0m road \u001b[38;5;241m=\u001b[39m Stopsign()\n\u001b[0;32m----> 3\u001b[0m \u001b[43mroad\u001b[49m\u001b[38;5;241;43m.\u001b[39;49m\u001b[43msimulate\u001b[49m\u001b[43m(\u001b[49m\u001b[43mn\u001b[49m\u001b[38;5;241;43m=\u001b[39;49m\u001b[38;5;241;43m1500\u001b[39;49m\u001b[43m,\u001b[49m\u001b[43m \u001b[49m\u001b[43mspawn_chance\u001b[49m\u001b[38;5;241;43m=\u001b[39;49m\u001b[38;5;241;43m.05\u001b[39;49m\u001b[43m)\u001b[49m\n",
      "Input \u001b[0;32mIn [4]\u001b[0m, in \u001b[0;36mIntersection.simulate\u001b[0;34m(self, n, spawn_chance)\u001b[0m\n\u001b[1;32m     88\u001b[0m \u001b[38;5;28;01mif\u001b[39;00m rd\u001b[38;5;241m.\u001b[39mrandom() \u001b[38;5;241m<\u001b[39m spawn_chance:\n\u001b[1;32m     89\u001b[0m     \u001b[38;5;28mself\u001b[39m\u001b[38;5;241m.\u001b[39madd(Vehicle(random\u001b[38;5;241m=\u001b[39m\u001b[38;5;28;01mTrue\u001b[39;00m))\n\u001b[0;32m---> 90\u001b[0m \u001b[38;5;28;43mself\u001b[39;49m\u001b[38;5;241;43m.\u001b[39;49m\u001b[43manimate\u001b[49m\u001b[43m(\u001b[49m\u001b[43m)\u001b[49m\n",
      "Input \u001b[0;32mIn [4]\u001b[0m, in \u001b[0;36mIntersection.animate\u001b[0;34m(self, n)\u001b[0m\n\u001b[1;32m     69\u001b[0m         fig \u001b[38;5;241m=\u001b[39m plt\u001b[38;5;241m.\u001b[39mfigure(figsize\u001b[38;5;241m=\u001b[39m(\u001b[38;5;241m10\u001b[39m,\u001b[38;5;241m10\u001b[39m))\n\u001b[1;32m     71\u001b[0m         \u001b[38;5;28;01mfor\u001b[39;00m i \u001b[38;5;129;01min\u001b[39;00m \u001b[38;5;28mrange\u001b[39m(n):\n\u001b[1;32m     72\u001b[0m             \n\u001b[1;32m     73\u001b[0m             \u001b[38;5;66;03m# displays\u001b[39;00m\n\u001b[0;32m---> 74\u001b[0m             \u001b[38;5;28;43mself\u001b[39;49m\u001b[38;5;241;43m.\u001b[39;49m\u001b[43mshow\u001b[49m\u001b[43m(\u001b[49m\u001b[43m)\u001b[49m\n\u001b[1;32m     75\u001b[0m \u001b[38;5;66;03m#             time.sleep(0.01)\u001b[39;00m\n\u001b[1;32m     76\u001b[0m             clear_output(wait\u001b[38;5;241m=\u001b[39m\u001b[38;5;28;01mTrue\u001b[39;00m)\n",
      "Input \u001b[0;32mIn [5]\u001b[0m, in \u001b[0;36mStopsign.show\u001b[0;34m(self)\u001b[0m\n\u001b[1;32m      9\u001b[0m \u001b[38;5;28;01mdef\u001b[39;00m \u001b[38;5;21mshow\u001b[39m(\u001b[38;5;28mself\u001b[39m):\n\u001b[0;32m---> 10\u001b[0m     \u001b[38;5;28;43msuper\u001b[39;49m\u001b[43m(\u001b[49m\u001b[43m)\u001b[49m\u001b[38;5;241;43m.\u001b[39;49m\u001b[43mshow\u001b[49m\u001b[43m(\u001b[49m\u001b[43m)\u001b[49m\n\u001b[1;32m     11\u001b[0m     plt\u001b[38;5;241m.\u001b[39mgca()\u001b[38;5;241m.\u001b[39madd_patch(plt\u001b[38;5;241m.\u001b[39mRectangle((\u001b[38;5;241m2.45\u001b[39m, \u001b[38;5;241m1\u001b[39m), \u001b[38;5;241m.1\u001b[39m, \u001b[38;5;241m1\u001b[39m, fc\u001b[38;5;241m=\u001b[39m\u001b[38;5;124m'\u001b[39m\u001b[38;5;124mblack\u001b[39m\u001b[38;5;124m'\u001b[39m))\n\u001b[1;32m     12\u001b[0m     plt\u001b[38;5;241m.\u001b[39mgca()\u001b[38;5;241m.\u001b[39madd_patch(plt\u001b[38;5;241m.\u001b[39mPolygon(\n\u001b[1;32m     13\u001b[0m         np\u001b[38;5;241m.\u001b[39marray([[\u001b[38;5;241m2.293\u001b[39m,\u001b[38;5;241m2\u001b[39m], [\u001b[38;5;241m2\u001b[39m,\u001b[38;5;241m2.293\u001b[39m], [\u001b[38;5;241m2\u001b[39m,\u001b[38;5;241m2.707\u001b[39m], [\u001b[38;5;241m2.293\u001b[39m, \u001b[38;5;241m3\u001b[39m], [\u001b[38;5;241m2.707\u001b[39m, \u001b[38;5;241m3\u001b[39m], [\u001b[38;5;241m3\u001b[39m,\u001b[38;5;241m2.707\u001b[39m], [\u001b[38;5;241m3\u001b[39m,\u001b[38;5;241m2.293\u001b[39m], [\u001b[38;5;241m2.707\u001b[39m, \u001b[38;5;241m2\u001b[39m]]), \n\u001b[1;32m     14\u001b[0m         closed\u001b[38;5;241m=\u001b[39m\u001b[38;5;28;01mTrue\u001b[39;00m, fc\u001b[38;5;241m=\u001b[39m\u001b[38;5;124m'\u001b[39m\u001b[38;5;124mred\u001b[39m\u001b[38;5;124m'\u001b[39m, ec\u001b[38;5;241m=\u001b[39m\u001b[38;5;124m'\u001b[39m\u001b[38;5;124mblack\u001b[39m\u001b[38;5;124m'\u001b[39m))\n",
      "Input \u001b[0;32mIn [4]\u001b[0m, in \u001b[0;36mIntersection.show\u001b[0;34m(self)\u001b[0m\n\u001b[1;32m     29\u001b[0m plt\u001b[38;5;241m.\u001b[39mgca()\u001b[38;5;241m.\u001b[39madd_patch(plt\u001b[38;5;241m.\u001b[39mRectangle((\u001b[38;5;241m-\u001b[39m\u001b[38;5;241m10\u001b[39m,\u001b[38;5;241m-\u001b[39m\u001b[38;5;241m10\u001b[39m), \u001b[38;5;241m9\u001b[39m, \u001b[38;5;241m9\u001b[39m, fc\u001b[38;5;241m=\u001b[39m\u001b[38;5;124m'\u001b[39m\u001b[38;5;124mgreen\u001b[39m\u001b[38;5;124m'\u001b[39m, ec\u001b[38;5;241m=\u001b[39m\u001b[38;5;124m'\u001b[39m\u001b[38;5;124mblack\u001b[39m\u001b[38;5;124m'\u001b[39m))\n\u001b[1;32m     30\u001b[0m plt\u001b[38;5;241m.\u001b[39mgca()\u001b[38;5;241m.\u001b[39madd_patch(plt\u001b[38;5;241m.\u001b[39mRectangle((\u001b[38;5;241m1\u001b[39m,\u001b[38;5;241m-\u001b[39m\u001b[38;5;241m10\u001b[39m), \u001b[38;5;241m9\u001b[39m, \u001b[38;5;241m9\u001b[39m, fc\u001b[38;5;241m=\u001b[39m\u001b[38;5;124m'\u001b[39m\u001b[38;5;124mgreen\u001b[39m\u001b[38;5;124m'\u001b[39m, ec\u001b[38;5;241m=\u001b[39m\u001b[38;5;124m'\u001b[39m\u001b[38;5;124mblack\u001b[39m\u001b[38;5;124m'\u001b[39m))\n\u001b[0;32m---> 31\u001b[0m plt\u001b[38;5;241m.\u001b[39mgca()\u001b[38;5;241m.\u001b[39madd_patch(\u001b[43mplt\u001b[49m\u001b[38;5;241;43m.\u001b[39;49m\u001b[43mRectangle\u001b[49m\u001b[43m(\u001b[49m\u001b[43m(\u001b[49m\u001b[38;5;241;43m-\u001b[39;49m\u001b[38;5;241;43m10\u001b[39;49m\u001b[43m,\u001b[49m\u001b[38;5;241;43m1\u001b[39;49m\u001b[43m)\u001b[49m\u001b[43m,\u001b[49m\u001b[43m \u001b[49m\u001b[38;5;241;43m9\u001b[39;49m\u001b[43m,\u001b[49m\u001b[43m \u001b[49m\u001b[38;5;241;43m9\u001b[39;49m\u001b[43m,\u001b[49m\u001b[43m \u001b[49m\u001b[43mfc\u001b[49m\u001b[38;5;241;43m=\u001b[39;49m\u001b[38;5;124;43m'\u001b[39;49m\u001b[38;5;124;43mgreen\u001b[39;49m\u001b[38;5;124;43m'\u001b[39;49m\u001b[43m,\u001b[49m\u001b[43m \u001b[49m\u001b[43mec\u001b[49m\u001b[38;5;241;43m=\u001b[39;49m\u001b[38;5;124;43m'\u001b[39;49m\u001b[38;5;124;43mblack\u001b[39;49m\u001b[38;5;124;43m'\u001b[39;49m\u001b[43m)\u001b[49m)\n\u001b[1;32m     32\u001b[0m plt\u001b[38;5;241m.\u001b[39mgca()\u001b[38;5;241m.\u001b[39madd_patch(plt\u001b[38;5;241m.\u001b[39mRectangle((\u001b[38;5;241m1\u001b[39m,\u001b[38;5;241m1\u001b[39m), \u001b[38;5;241m9\u001b[39m, \u001b[38;5;241m9\u001b[39m, fc\u001b[38;5;241m=\u001b[39m\u001b[38;5;124m'\u001b[39m\u001b[38;5;124mgreen\u001b[39m\u001b[38;5;124m'\u001b[39m, ec\u001b[38;5;241m=\u001b[39m\u001b[38;5;124m'\u001b[39m\u001b[38;5;124mblack\u001b[39m\u001b[38;5;124m'\u001b[39m))\n\u001b[1;32m     34\u001b[0m plt\u001b[38;5;241m.\u001b[39mgca()\u001b[38;5;241m.\u001b[39madd_patch(plt\u001b[38;5;241m.\u001b[39mRectangle((\u001b[38;5;241m-\u001b[39m\u001b[38;5;241m9\u001b[39m,\u001b[38;5;241m-\u001b[39m\u001b[38;5;241m.0625\u001b[39m), \u001b[38;5;241m1.5\u001b[39m, \u001b[38;5;241m.125\u001b[39m, fc\u001b[38;5;241m=\u001b[39m\u001b[38;5;124m'\u001b[39m\u001b[38;5;124myellow\u001b[39m\u001b[38;5;124m'\u001b[39m))\n",
      "File \u001b[0;32m~/opt/anaconda3/lib/python3.9/site-packages/matplotlib/patches.py:727\u001b[0m, in \u001b[0;36mRectangle.__init__\u001b[0;34m(self, xy, width, height, angle, **kwargs)\u001b[0m\n\u001b[1;32m    708\u001b[0m \u001b[38;5;129m@docstring\u001b[39m\u001b[38;5;241m.\u001b[39mdedent_interpd\n\u001b[1;32m    709\u001b[0m \u001b[38;5;28;01mdef\u001b[39;00m \u001b[38;5;21m__init__\u001b[39m(\u001b[38;5;28mself\u001b[39m, xy, width, height, angle\u001b[38;5;241m=\u001b[39m\u001b[38;5;241m0.0\u001b[39m, \u001b[38;5;241m*\u001b[39m\u001b[38;5;241m*\u001b[39mkwargs):\n\u001b[1;32m    710\u001b[0m     \u001b[38;5;124;03m\"\"\"\u001b[39;00m\n\u001b[1;32m    711\u001b[0m \u001b[38;5;124;03m    Parameters\u001b[39;00m\n\u001b[1;32m    712\u001b[0m \u001b[38;5;124;03m    ----------\u001b[39;00m\n\u001b[0;32m   (...)\u001b[0m\n\u001b[1;32m    725\u001b[0m \u001b[38;5;124;03m        %(Patch:kwdoc)s\u001b[39;00m\n\u001b[1;32m    726\u001b[0m \u001b[38;5;124;03m    \"\"\"\u001b[39;00m\n\u001b[0;32m--> 727\u001b[0m     \u001b[38;5;28;43msuper\u001b[39;49m\u001b[43m(\u001b[49m\u001b[43m)\u001b[49m\u001b[38;5;241;43m.\u001b[39;49m\u001b[38;5;21;43m__init__\u001b[39;49m\u001b[43m(\u001b[49m\u001b[38;5;241;43m*\u001b[39;49m\u001b[38;5;241;43m*\u001b[39;49m\u001b[43mkwargs\u001b[49m\u001b[43m)\u001b[49m\n\u001b[1;32m    728\u001b[0m     \u001b[38;5;28mself\u001b[39m\u001b[38;5;241m.\u001b[39m_x0 \u001b[38;5;241m=\u001b[39m xy[\u001b[38;5;241m0\u001b[39m]\n\u001b[1;32m    729\u001b[0m     \u001b[38;5;28mself\u001b[39m\u001b[38;5;241m.\u001b[39m_y0 \u001b[38;5;241m=\u001b[39m xy[\u001b[38;5;241m1\u001b[39m]\n",
      "File \u001b[0;32m~/opt/anaconda3/lib/python3.9/site-packages/matplotlib/patches.py:76\u001b[0m, in \u001b[0;36mPatch.__init__\u001b[0;34m(self, edgecolor, facecolor, color, linewidth, linestyle, antialiased, hatch, fill, capstyle, joinstyle, **kwargs)\u001b[0m\n\u001b[1;32m     59\u001b[0m \u001b[38;5;28;01mdef\u001b[39;00m \u001b[38;5;21m__init__\u001b[39m(\u001b[38;5;28mself\u001b[39m,\n\u001b[1;32m     60\u001b[0m              edgecolor\u001b[38;5;241m=\u001b[39m\u001b[38;5;28;01mNone\u001b[39;00m,\n\u001b[1;32m     61\u001b[0m              facecolor\u001b[38;5;241m=\u001b[39m\u001b[38;5;28;01mNone\u001b[39;00m,\n\u001b[0;32m   (...)\u001b[0m\n\u001b[1;32m     69\u001b[0m              joinstyle\u001b[38;5;241m=\u001b[39m\u001b[38;5;28;01mNone\u001b[39;00m,\n\u001b[1;32m     70\u001b[0m              \u001b[38;5;241m*\u001b[39m\u001b[38;5;241m*\u001b[39mkwargs):\n\u001b[1;32m     71\u001b[0m     \u001b[38;5;124;03m\"\"\"\u001b[39;00m\n\u001b[1;32m     72\u001b[0m \u001b[38;5;124;03m    The following kwarg properties are supported\u001b[39;00m\n\u001b[1;32m     73\u001b[0m \n\u001b[1;32m     74\u001b[0m \u001b[38;5;124;03m    %(Patch:kwdoc)s\u001b[39;00m\n\u001b[1;32m     75\u001b[0m \u001b[38;5;124;03m    \"\"\"\u001b[39;00m\n\u001b[0;32m---> 76\u001b[0m     \u001b[38;5;28;43msuper\u001b[39;49m\u001b[43m(\u001b[49m\u001b[43m)\u001b[49m\u001b[38;5;241;43m.\u001b[39;49m\u001b[38;5;21;43m__init__\u001b[39;49m\u001b[43m(\u001b[49m\u001b[43m)\u001b[49m\n\u001b[1;32m     78\u001b[0m     \u001b[38;5;28;01mif\u001b[39;00m linewidth \u001b[38;5;129;01mis\u001b[39;00m \u001b[38;5;28;01mNone\u001b[39;00m:\n\u001b[1;32m     79\u001b[0m         linewidth \u001b[38;5;241m=\u001b[39m mpl\u001b[38;5;241m.\u001b[39mrcParams[\u001b[38;5;124m'\u001b[39m\u001b[38;5;124mpatch.linewidth\u001b[39m\u001b[38;5;124m'\u001b[39m]\n",
      "File \u001b[0;32m~/opt/anaconda3/lib/python3.9/site-packages/matplotlib/artist.py:181\u001b[0m, in \u001b[0;36mArtist.__init__\u001b[0;34m(self)\u001b[0m\n\u001b[1;32m    179\u001b[0m \u001b[38;5;28mself\u001b[39m\u001b[38;5;241m.\u001b[39m_snap \u001b[38;5;241m=\u001b[39m \u001b[38;5;28;01mNone\u001b[39;00m\n\u001b[1;32m    180\u001b[0m \u001b[38;5;28mself\u001b[39m\u001b[38;5;241m.\u001b[39m_sketch \u001b[38;5;241m=\u001b[39m mpl\u001b[38;5;241m.\u001b[39mrcParams[\u001b[38;5;124m'\u001b[39m\u001b[38;5;124mpath.sketch\u001b[39m\u001b[38;5;124m'\u001b[39m]\n\u001b[0;32m--> 181\u001b[0m \u001b[38;5;28mself\u001b[39m\u001b[38;5;241m.\u001b[39m_path_effects \u001b[38;5;241m=\u001b[39m \u001b[43mmpl\u001b[49m\u001b[38;5;241m.\u001b[39mrcParams[\u001b[38;5;124m'\u001b[39m\u001b[38;5;124mpath.effects\u001b[39m\u001b[38;5;124m'\u001b[39m]\n\u001b[1;32m    182\u001b[0m \u001b[38;5;28mself\u001b[39m\u001b[38;5;241m.\u001b[39m_sticky_edges \u001b[38;5;241m=\u001b[39m _XYPair([], [])\n\u001b[1;32m    183\u001b[0m \u001b[38;5;28mself\u001b[39m\u001b[38;5;241m.\u001b[39m_in_layout \u001b[38;5;241m=\u001b[39m \u001b[38;5;28;01mTrue\u001b[39;00m\n",
      "\u001b[0;31mKeyboardInterrupt\u001b[0m: "
     ]
    },
    {
     "data": {
      "image/png": "[encoded data removed]",
      "text/plain": [
       "<Figure size 720x720 with 1 Axes>"
      ]
     },
     "metadata": {
      "needs_background": "light"
     },
     "output_type": "display_data"
    }
   ],
   "source": [
    "# Simulate traffic\n",
    "road = Stopsign()\n",
    "road.simulate(n=1500, spawn_chance=.05)"
   ]
  },
  {
   "cell_type": "markdown",
   "id": "00212c85",
   "metadata": {},
   "source": [
    "# Stoplight"
   ]
  },
  {
   "cell_type": "markdown",
   "id": "003029bb",
   "metadata": {},
   "source": [
    "Need to do:\n",
    "1. Add left turn behavior\n",
    "2. Fix turn acceleration\n"
   ]
  },
  {
   "cell_type": "code",
   "execution_count": 67,
   "id": "13bb7d8d",
   "metadata": {},
   "outputs": [
    {
     "name": "stdout",
     "output_type": "stream",
     "text": [
      "[0, 1, 0, 1]\n"
     ]
    }
   ],
   "source": [
    "slight = [2, 0, 2, 0]\n",
    "for i, light in enumerate(slight):\n",
    "    if light == 2:\n",
    "        slight[i] = 0\n",
    "    if light == 0:\n",
    "        slight[i] = 1\n",
    "print(slight)"
   ]
  },
  {
   "cell_type": "code",
   "execution_count": 78,
   "id": "2473812f",
   "metadata": {},
   "outputs": [],
   "source": [
    "class Stoplight(Intersection):    \n",
    "    '''Subclass of Intersection that carries behavior of the stoplight'''\n",
    "    \n",
    "    def __init__(self, n=0, cycle_time=100, cur_time=0):\n",
    "        '''Defines Stoplight object'''\n",
    "        super().__init__(n)\n",
    "        self.light = [1, 0, 1 ,0]\n",
    "        self.cycle_time = cycle_time\n",
    "        self.cur_time = cur_time\n",
    "    \n",
    "    def show(self):\n",
    "        super().show()\n",
    "        colors = ['red', 'lime', 'yellow']\n",
    "        plt.gca().add_patch(plt.Circle((-1.7, 3), .5, fc=colors[self.light[0]]))\n",
    "        plt.gca().add_patch(plt.Circle((3, 1.7), .5, fc=colors[self.light[1]]))\n",
    "        plt.gca().add_patch(plt.Circle((1.7, -3), .5, fc=colors[self.light[2]]))\n",
    "        plt.gca().add_patch(plt.Circle((-3, -1.7), .5, fc=colors[self.light[3]]))\n",
    "\n",
    "    def timestep(self):\n",
    "        '''Includes unique behavior of stoplight'''\n",
    "        # update stoplight\n",
    "        if self.cycle_time-self.cur_time == 30:\n",
    "            for i, light in enumerate(self.light):\n",
    "                if light == 1:\n",
    "                    self.light[i] = 2\n",
    "            self.cur_time += 1\n",
    "        if self.cycle_time-self.cur_time == 0:\n",
    "            for i, light in enumerate(self.light):\n",
    "                if light == 2:\n",
    "                    self.light[i] = 0\n",
    "                elif light == 0:\n",
    "                    self.light[i] = 1\n",
    "            self.cur_time -= self.cycle_time-1\n",
    "        else:\n",
    "            self.cur_time += 1\n",
    "        \n",
    "        # update vehicles \n",
    "        for v in self.vehicles:\n",
    "\n",
    "            loc = v.get_loc()\n",
    "            pos = v.get_pos()\n",
    "            t = v.get_t()\n",
    "            speed = v.get_speed()\n",
    "            maxspeed = v.get_maxspeed()\n",
    "            \n",
    "            # brake zone\n",
    "            if t > 6.5 and t < 8.2:\n",
    "                # braking for yellow and red light\n",
    "                if self.light[loc[1]] == 0 or self.light[loc[1]] == 2:\n",
    "                    v.set_speed((8.5-t)*maxspeed/2)\n",
    "                \n",
    "            # accelerating from stop\n",
    "            elif (t >= 8.2 and t < 11.6) and speed<maxspeed:\n",
    "                if speed == 0 and self.light[loc[1]] == 1:\n",
    "                    v.set_stop(False)\n",
    "                if v.get_stop():\n",
    "                    v.set_speed(0)\n",
    "                else:\n",
    "                    v.set_speed((t-7.1)*maxspeed/4.5)\n",
    "            \n",
    "            # max speed driving\n",
    "            elif t >= 11.6 or t <= 6.5:\n",
    "                v.set_speed(maxspeed)\n",
    "                        \n",
    "            # braking for vehicle\n",
    "            others = self.vehicles[:]\n",
    "            others.remove(v)\n",
    "            for c in others:\n",
    "                # if on same axis, close together, and behind the other vehicle, slow down\n",
    "                if (c.get_pos()[0]==pos[0] or c.get_pos()[1]==pos[1]) and (math.dist(c.get_pos(),pos)<2) and (t<c.get_t()):\n",
    "                    new_speed = (math.dist(c.get_pos(),pos)-1)*maxspeed\n",
    "                    if new_speed < v.get_speed():\n",
    "                        v.set_speed(new_speed)\n",
    "            \n",
    "            v.move()\n",
    "            \n",
    "            if t > 22:\n",
    "                self.vehicles.remove(v)"
   ]
  },
  {
   "cell_type": "code",
   "execution_count": 72,
   "id": "74b451c4",
   "metadata": {},
   "outputs": [
    {
     "data": {
      "image/png": "[encoded data removed]",
      "text/plain": [
       "<Figure size 504x504 with 1 Axes>"
      ]
     },
     "metadata": {},
     "output_type": "display_data"
    }
   ],
   "source": [
    "# Show image\n",
    "road = Stoplight(1)\n",
    "plt.figure(figsize=(7,7))\n",
    "road.show()"
   ]
  },
  {
   "cell_type": "code",
   "execution_count": 79,
   "id": "aca88a2f",
   "metadata": {},
   "outputs": [
    {
     "data": {
      "image/png": "[encoded data removed]",
      "text/plain": [
       "<Figure size 720x720 with 1 Axes>"
      ]
     },
     "metadata": {},
     "output_type": "display_data"
    }
   ],
   "source": [
    "# Simulate two cars\n",
    "road = Stoplight()\n",
    "road.add_vehicle(Vehicle(maxspeed=.1, loc='down', dest='left', random=False))\n",
    "road.animate(30)\n",
    "road.add_vehicle(Vehicle(maxspeed=.1, loc='right', dest='up', random=False))\n",
    "road.animate(260)"
   ]
  },
  {
   "cell_type": "code",
   "execution_count": null,
   "id": "0c018801",
   "metadata": {},
   "outputs": [
    {
     "data": {
      "image/png": "[encoded data removed]",
      "text/plain": [
       "<Figure size 720x720 with 1 Axes>"
      ]
     },
     "metadata": {},
     "output_type": "display_data"
    }
   ],
   "source": [
    "# Simulate traffic\n",
    "road = Stoplight()\n",
    "road.simulate(n=1500, spawn_chance=.05)"
   ]
  },
  {
   "cell_type": "code",
   "execution_count": null,
   "id": "e1cd8546",
   "metadata": {},
   "outputs": [],
   "source": []
  }
 ],
 "metadata": {
  "kernelspec": {
   "display_name": "Python 3 (ipykernel)",
   "language": "python",
   "name": "python3"
  },
  "language_info": {
   "codemirror_mode": {
    "name": "ipython",
    "version": 3
   },
   "file_extension": ".py",
   "mimetype": "text/x-python",
   "name": "python",
   "nbconvert_exporter": "python",
   "pygments_lexer": "ipython3",
   "version": "3.9.12"
  }
 },
 "nbformat": 4,
 "nbformat_minor": 5
}
