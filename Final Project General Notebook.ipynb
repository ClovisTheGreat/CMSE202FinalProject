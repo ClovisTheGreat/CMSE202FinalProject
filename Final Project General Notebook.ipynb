{
 "cells": [
  {
   "cell_type": "markdown",
   "id": "3a02e56a",
   "metadata": {},
   "source": [
    "# Traffic Final Project\n",
    "\n",
    "## CMSE 202"
   ]
  },
  {
   "cell_type": "code",
   "execution_count": 1,
   "id": "e8f9d265",
   "metadata": {},
   "outputs": [],
   "source": [
    "import numpy as np\n",
    "import matplotlib.pyplot as plt\n",
    "import pandas as pd\n",
    "import random as rd\n",
    "from random import choice\n",
    "import time\n",
    "from IPython.display import display, clear_output\n",
    "import math"
   ]
  },
  {
   "cell_type": "markdown",
   "id": "ffcb8926",
   "metadata": {},
   "source": [
    "## General Vehicle/Intersection Code"
   ]
  },
  {
   "cell_type": "markdown",
   "id": "4fab94ef",
   "metadata": {},
   "source": [
    "This code approach tracks and progresses the movement of vehicles using parametic equations. This way, instead of using impercise velocity update equations, the vehicles will stay exactly on one path and all that has to be tracked is the distance along this path. It is important to note that the variable \"t\" is used NOT to represent time, but rather represents the distance the vehicle is along its path."
   ]
  },
  {
   "cell_type": "code",
   "execution_count": 2,
   "id": "b57ea15c",
   "metadata": {},
   "outputs": [],
   "source": [
    "'''Vechile Path Equations'''\n",
    "\n",
    "'''Inputs a single coordinate along a \n",
    "vehicle's path and returns parametrized \n",
    "x and y coordinates'''\n",
    "\n",
    "# Straight Paths\n",
    "def down_up(t):\n",
    "    return .5, t-10\n",
    "\n",
    "def left_right(t):\n",
    "    return t-10, -.5\n",
    "\n",
    "def up_down(t):\n",
    "    return -.5, 10-t\n",
    "\n",
    "def right_left(t):\n",
    "    return 10-t, .5\n",
    "\n",
    "# Right Turns\n",
    "def down_right(t):\n",
    "    if t <= 9:\n",
    "        return .5, -10+t\n",
    "    elif t < 9+np.pi/4:\n",
    "        return 1 - .5*np.cos(2*t-18), -1 + .5*np.sin(2*t-18)\n",
    "    else:\n",
    "        return t-8-np.pi/4, -.5\n",
    "    \n",
    "def left_down(t):\n",
    "    if t <= 9:\n",
    "        return -10+t, -.5\n",
    "    elif t < 9+np.pi/4:\n",
    "        return -1 + .5*np.sin(2*t-18), -1 + .5*np.cos(2*t-18)\n",
    "    else:\n",
    "        return -.5, 8+np.pi/4-t\n",
    "    \n",
    "def up_left(t):\n",
    "    if t <= 9:\n",
    "        return -.5, 10-t\n",
    "    elif t < 9+np.pi/4:\n",
    "        return -1 + .5*np.cos(2*t-18), 1 - .5*np.sin(2*t-18)\n",
    "    else:\n",
    "        return 8+np.pi/4-t, .5\n",
    "    \n",
    "def right_up(t):\n",
    "    if t <= 9:\n",
    "        return 10-t, .5\n",
    "    elif t < 9+np.pi/4:\n",
    "        return 1 - .5*np.sin(2*t-18), 1 - .5*np.cos(2*t-18)\n",
    "    else:\n",
    "        return .5, t-8-np.pi/4\n",
    "    \n",
    "# Left Turns\n",
    "def down_left(t):\n",
    "    if t <= 9:\n",
    "        return .5, -10+t\n",
    "    elif t < 9+3*np.pi/4:\n",
    "        return -1 + 1.5*np.cos(2*(t-9)/3), -1 + 1.5*np.sin(2*(t-9)/3)\n",
    "    else:\n",
    "        return 8+3*np.pi/4 - t, .5\n",
    "    \n",
    "def left_up(t):\n",
    "    if t <= 9:\n",
    "        return -10+t, -.5\n",
    "    elif t < 9+3*np.pi/4:\n",
    "        return -1 + 1.5*np.sin(2*(t-9)/3), 1 - 1.5*np.cos(2*(t-9)/3)\n",
    "    else:\n",
    "        return .5, t-8-3*np.pi/4\n",
    "    \n",
    "def up_right(t):\n",
    "    if t <= 9:\n",
    "        return -.5, 10-t\n",
    "    elif t < 9+3*np.pi/4:\n",
    "        return 1 - 1.5*np.cos(2*(t-9)/3), 1 - 1.5*np.sin(2*(t-9)/3)\n",
    "    else:\n",
    "        return -8-3*np.pi/4 + t, -.5\n",
    "    \n",
    "def right_down(t):\n",
    "    if t <= 9:\n",
    "        return 10-t, .5\n",
    "    elif t < 9+3*np.pi/4:\n",
    "        return 1 - 1.5*np.sin(2*(t-9)/3), -1 + 1.5*np.cos(2*(t-9)/3)\n",
    "    else:\n",
    "        return -.5, -t+8+3*np.pi/4\n",
    "    "
   ]
  },
  {
   "cell_type": "markdown",
   "id": "cb773a0e",
   "metadata": {},
   "source": [
    "### Vehicle Class:\n",
    "\n",
    "#### Attributes:\n",
    "1. t - float: distance along the path\n",
    "2. stop - boolean: if True, the vehicle will choose to stop when approaching an intersection (handled by Intersection Class)\n",
    "3. maxspeed - float: top speed vehicle will travel out during simulation (units per timestep)\n",
    "4. speed - float: current speed of vehicle (units per timestep)\n",
    "5. destination - string: location the vehicle is heading to (\"up\", \"right\", \"down\", \"left\")\n",
    "6. equation - function: parameterized path equation of vehicle\n",
    "7. position - tuple: x and y coordinates of vehicle\n"
   ]
  },
  {
   "cell_type": "code",
   "execution_count": 26,
   "id": "02b11767",
   "metadata": {},
   "outputs": [],
   "source": [
    "class Vehicle():\n",
    "    '''General vehicle class'''\n",
    "    \n",
    "    def __init__(self, maxspeed=.1, loc='down', dest='right', random=False):\n",
    "        '''\n",
    "           Defines the vehicle\n",
    "        \n",
    "           maxspeed - float : maximum speed the car will travel\n",
    "           loc - string : location the vechile will spawn\n",
    "           dest - string : location the vehicle will travel to\n",
    "           random - boolean: whether or not the vechile will be assigned random\n",
    "                             loc and dest or if the parameters will be used.\n",
    "        '''\n",
    "        self.t = 0   \n",
    "        self.stop = True\n",
    "        if random:\n",
    "            # randomly selects spawn location and destination\n",
    "            options = [\"up\", \"right\", \"down\", \"left\"]\n",
    "            location = choice(options)\n",
    "            options.remove(location) \n",
    "            self.destination = choice(options)\n",
    "            self.equation = eval(location+\"_\"+self.destination) # assigns appriopriate path equation \n",
    "            self.position = self.equation(0)\n",
    "            self.maxspeed = maxspeed + np.random.randn()*.02 # adds random variation based on normal distribution\n",
    "            self.speed = self.maxspeed \n",
    "\n",
    "        else:\n",
    "            self.maxspeed = maxspeed\n",
    "            self.speed = maxspeed\n",
    "            self.destination = dest\n",
    "            self.equation = eval(loc+\"_\"+dest)\n",
    "            self.position = self.equation(0)\n",
    "\n",
    "    def move(self):\n",
    "        '''Updates position and t based on speed'''\n",
    "        self.t += self.speed\n",
    "        self.position = self.equation(self.t)\n",
    "    \n",
    "    def set_pos(self, pos):\n",
    "        '''Sets position of vehicle'''\n",
    "        self.position = pos\n",
    "        \n",
    "    def get_pos(self):\n",
    "        '''Gets position of vehicle'''\n",
    "        return self.position\n",
    "    \n",
    "    def set_t(self, t):\n",
    "        '''Sets t of vehicle'''\n",
    "        self.t = t\n",
    "        \n",
    "    def get_t(self):\n",
    "        '''Gets t of vehicle'''\n",
    "        return self.t\n",
    "    \n",
    "    def set_stop(self, stop):\n",
    "        '''Sets stop value of vehicle'''\n",
    "        self.stop = stop\n",
    "        \n",
    "    def get_stop(self):\n",
    "        '''Gets stop value of vehicle'''\n",
    "        return self.stop\n",
    "    \n",
    "    def set_speed(self, s):\n",
    "        '''Sets speed of vehicle'''\n",
    "        self.speed = s\n",
    "        \n",
    "    def get_speed(self):\n",
    "        '''Gets speed of vehicle'''\n",
    "        return self.speed\n",
    "    \n",
    "    def set_maxspeed(self, s):\n",
    "        '''Sets max speed of vehicle'''\n",
    "        self.maxspeed = s\n",
    "        \n",
    "    def get_maxspeed(self):\n",
    "        '''Gets max speed of vehicle'''\n",
    "        return self.maxspeed\n",
    "    \n",
    "    def set_dest(self, dest):\n",
    "        '''Sets destination of vehicle'''\n",
    "        self.destination = dest\n",
    "    \n",
    "    def get_dest(self):\n",
    "        '''Gets destination of vehicle'''\n",
    "        return self.destination\n",
    "    \n",
    "    def get_loc(self):\n",
    "        '''Returns part of the intersection the vehicle is in'''\n",
    "        x, y = self.position \n",
    "        if y > 1:\n",
    "            return ('up', 0)\n",
    "        elif x > 1:\n",
    "            return ('right', 1)\n",
    "        elif y < -1:\n",
    "            return ('down', 2)\n",
    "        elif x < -1:\n",
    "            return ('left', 3)\n",
    "        else:\n",
    "            return ('center', 4)"
   ]
  },
  {
   "cell_type": "markdown",
   "id": "2ab0a2ef",
   "metadata": {},
   "source": [
    "### Intersection Class:\n",
    "\n",
    "#### Attributes:\n",
    "1. vehicles - list of vehicles objs: holds all vehicles current in intersection"
   ]
  },
  {
   "cell_type": "code",
   "execution_count": 4,
   "id": "860ff45d",
   "metadata": {},
   "outputs": [],
   "source": [
    "class Intersection():\n",
    "    '''General intersection class'''\n",
    "    \n",
    "    def __init__(self, n=0):\n",
    "        '''Defines the intersection'''\n",
    "        self.vehicles = []\n",
    "        for i in range(n):\n",
    "            self.vehicles.append(Vehicle(random=True))\n",
    "            \n",
    "    def add_vehicle(self, vehicle):\n",
    "        '''Adds one vehicle to the intersection'''\n",
    "        self.vehicles.append(vehicle)\n",
    "        \n",
    "    def add(self, vehicle):\n",
    "        '''Adds one vehicle to the intersection'''\n",
    "        self.vehicles.append(vehicle)\n",
    "        \n",
    "    def get_vehicles(self):\n",
    "        '''Returns list of vehicles'''\n",
    "        return self.vehicles\n",
    "    \n",
    "    def show(self):\n",
    "        '''Graphs a static visual of the intersection, roads, and vehicles'''\n",
    "        \n",
    "        # draws road\n",
    "        plt.gca().add_patch(plt.Rectangle((-10,-1), 20, 2, fc='grey'))\n",
    "        plt.gca().add_patch(plt.Rectangle((-1,-10), 2, 20, fc='grey'))\n",
    "        \n",
    "        plt.gca().add_patch(plt.Rectangle((-10,-10), 9, 9, fc='green', ec='black'))\n",
    "        plt.gca().add_patch(plt.Rectangle((1,-10), 9, 9, fc='green', ec='black'))\n",
    "        plt.gca().add_patch(plt.Rectangle((-10,1), 9, 9, fc='green', ec='black'))\n",
    "        plt.gca().add_patch(plt.Rectangle((1,1), 9, 9, fc='green', ec='black'))\n",
    "        \n",
    "        plt.gca().add_patch(plt.Rectangle((-9,-.25), 1.5, .5, fc='yellow'))\n",
    "        plt.gca().add_patch(plt.Rectangle((-5,-.25), 1.5, .5, fc='yellow'))\n",
    "        \n",
    "        plt.gca().add_patch(plt.Rectangle((7.5,-.25), 1.5, .5, fc='yellow'))\n",
    "        plt.gca().add_patch(plt.Rectangle((3.5,-.25), 1.5, .5, fc='yellow'))\n",
    "        \n",
    "        plt.gca().add_patch(plt.Rectangle((-.25, -9), .5, 1.5, fc='yellow'))\n",
    "        plt.gca().add_patch(plt.Rectangle((-.25, -5), .5, 1.5, fc='yellow'))\n",
    "        \n",
    "        plt.gca().add_patch(plt.Rectangle((-.25, 7.5), .5, 1.5, fc='yellow'))\n",
    "        plt.gca().add_patch(plt.Rectangle((-.25, 3.5), .5, 1.5, fc='yellow'))\n",
    "        \n",
    "        # draws vehicles\n",
    "        for v in self.vehicles:\n",
    "            x,y = v.get_pos()\n",
    "            plt.plot(x, y, 'rs', markersize=15, markeredgecolor='black') \n",
    "        \n",
    "        # limits plot to 20x20 area\n",
    "        plt.xlim([-10, 10])\n",
    "        plt.ylim([-10, 10])\n",
    "        \n",
    "        # removes tick marks\n",
    "        plt.tick_params(axis='both', which='both',\n",
    "                bottom=False, top=False, left=False, right=False,\n",
    "                labelbottom=False, labelleft=False)\n",
    "    \n",
    "    def timestep(self):\n",
    "        '''Advances the vehicles generally for all intersections'''\n",
    "        for v in self.vehicles:\n",
    "            v.move()\n",
    "            if v.get_t() > 22:\n",
    "                self.vehicles.remove(v)\n",
    "    \n",
    "    def animate(self, n=1):\n",
    "        '''Loops over timesteps while displaying snapshots'''\n",
    "        fig = plt.figure(figsize=(10,10))\n",
    "        \n",
    "        for i in range(n):\n",
    "            \n",
    "            # displays\n",
    "            self.show()\n",
    "#             time.sleep(0.01)\n",
    "            clear_output(wait=True)\n",
    "            display(fig)\n",
    "            fig.clear()\n",
    "            \n",
    "            # advances simulation\n",
    "            self.timestep()\n",
    "            \n",
    "        plt.close()\n",
    "    \n",
    "    def simulate(self, n=500, spawn_chance=.02):\n",
    "        '''simulates traffic using animate while spawning vehicles'''\n",
    "        for i in range(n):\n",
    "            if rd.random() < spawn_chance:\n",
    "                self.add(Vehicle(random=True))\n",
    "            self.animate()\n",
    "            \n",
    "        "
   ]
  },
  {
   "cell_type": "markdown",
   "id": "6f7c7184",
   "metadata": {},
   "source": [
    "## Stop Sign"
   ]
  },
  {
   "cell_type": "code",
   "execution_count": 5,
   "id": "b37c3cbc",
   "metadata": {},
   "outputs": [],
   "source": [
    "class Stopsign(Intersection):    \n",
    "    '''Subclass of Intersection that carries behavior of the 4-way stop'''\n",
    "    \n",
    "    def __init__(self, n=0):\n",
    "        '''Defines Stopsign object'''\n",
    "        super().__init__(n)\n",
    "        self.busy = False\n",
    "        \n",
    "    def show(self):\n",
    "        super().show()\n",
    "        plt.gca().add_patch(plt.Rectangle((2.45, 1), .1, 1, fc='black'))\n",
    "        plt.gca().add_patch(plt.Polygon(\n",
    "            np.array([[2.293,2], [2,2.293], [2,2.707], [2.293, 3], [2.707, 3], [3,2.707], [3,2.293], [2.707, 2]]), \n",
    "            closed=True, fc='red', ec='black'))\n",
    "        \n",
    "    \n",
    "    def timestep(self):\n",
    "        '''Includes unique behavior of 4-way stop'''\n",
    "        if self.busy == True:\n",
    "            self.busy = \"inter\"\n",
    "        elif self.busy == \"inter\":\n",
    "            self.busy = False\n",
    "\n",
    "        for v in self.vehicles:\n",
    "\n",
    "            pos = v.get_pos()\n",
    "            t = v.get_t()\n",
    "            speed = v.get_speed()\n",
    "            maxspeed = v.get_maxspeed()\n",
    "\n",
    "            # braking for stop sign\n",
    "            if t > 6.5 and t < 8.2:\n",
    "                v.set_speed((8.5-t)*maxspeed/2)\n",
    "                \n",
    "            # stopped or accelerating\n",
    "            elif t >= 8.2 and t < 11.6:\n",
    "                if speed == 0 and self.busy == False:\n",
    "                    v.set_stop(False)\n",
    "                if v.get_stop():\n",
    "                    v.set_speed(0)\n",
    "                else:\n",
    "                    self.busy = True\n",
    "                    v.set_speed((t-7.1)*maxspeed/4.5)\n",
    "            \n",
    "            # max speed driving\n",
    "            elif t >= 11.6 or t <= 6.5:\n",
    "                v.set_speed(maxspeed)\n",
    "                        \n",
    "            # braking for vehicle\n",
    "            others = self.vehicles[:]\n",
    "            others.remove(v)\n",
    "            for c in others:\n",
    "                # if on same axis, close together, and behind the other vehicle, slow down\n",
    "                if (c.get_pos()[0]==pos[0] or c.get_pos()[1]==pos[1]) and (math.dist(c.get_pos(),pos)<2) and (t<c.get_t()):\n",
    "                    new_speed = (math.dist(c.get_pos(),pos)-1)*maxspeed\n",
    "                    if new_speed < v.get_speed():\n",
    "                        v.set_speed(new_speed)\n",
    "            \n",
    "            v.move()\n",
    "            \n",
    "            if t > 22:\n",
    "                self.vehicles.remove(v)\n",
    "                     \n",
    "            "
   ]
  },
  {
   "cell_type": "code",
   "execution_count": 16,
   "id": "658fd69e",
   "metadata": {},
   "outputs": [
    {
     "data": {
      "image/png": "[encoded data removed]",
      "text/plain": [
       "<Figure size 504x504 with 1 Axes>"
      ]
     },
     "metadata": {},
     "output_type": "display_data"
    }
   ],
   "source": [
    "# Show image\n",
    "road = Stopsign(3)\n",
    "plt.figure(figsize=(7,7))\n",
    "road.show()"
   ]
  },
  {
   "cell_type": "code",
   "execution_count": 7,
   "id": "031fd69e",
   "metadata": {},
   "outputs": [
    {
     "data": {
      "image/png": "[encoded data removed]",
      "text/plain": [
       "<Figure size 720x720 with 1 Axes>"
      ]
     },
     "metadata": {},
     "output_type": "display_data"
    }
   ],
   "source": [
    "# Simulate two cars\n",
    "road = Stopsign()\n",
    "road.add_vehicle(Vehicle(maxspeed=.1, loc='down', dest='left', random=False))\n",
    "road.animate(30)\n",
    "road.add_vehicle(Vehicle(maxspeed=.1, loc='right', dest='up', random=False))\n",
    "road.animate(260)"
   ]
  },
  {
   "cell_type": "code",
   "execution_count": 9,
   "id": "de98c9b8",
   "metadata": {},
   "outputs": [
    {
     "data": {
      "image/png": "[encoded data removed]",
      "text/plain": [
       "<Figure size 720x720 with 1 Axes>"
      ]
     },
     "metadata": {},
     "output_type": "display_data"
    },
    {
     "ename": "KeyboardInterrupt",
     "evalue": "",
     "output_type": "error",
     "traceback": [
      "\u001b[0;31m---------------------------------------------------------------------------\u001b[0m",
      "\u001b[0;31mKeyboardInterrupt\u001b[0m                         Traceback (most recent call last)",
      "\u001b[0;32m<ipython-input-9-1ca0d925507a>\u001b[0m in \u001b[0;36m<module>\u001b[0;34m\u001b[0m\n\u001b[1;32m      1\u001b[0m \u001b[0;31m# Simulate traffic\u001b[0m\u001b[0;34m\u001b[0m\u001b[0;34m\u001b[0m\u001b[0;34m\u001b[0m\u001b[0m\n\u001b[1;32m      2\u001b[0m \u001b[0mroad\u001b[0m \u001b[0;34m=\u001b[0m \u001b[0mStopsign\u001b[0m\u001b[0;34m(\u001b[0m\u001b[0;34m)\u001b[0m\u001b[0;34m\u001b[0m\u001b[0;34m\u001b[0m\u001b[0m\n\u001b[0;32m----> 3\u001b[0;31m \u001b[0mroad\u001b[0m\u001b[0;34m.\u001b[0m\u001b[0msimulate\u001b[0m\u001b[0;34m(\u001b[0m\u001b[0mn\u001b[0m\u001b[0;34m=\u001b[0m\u001b[0;36m1500\u001b[0m\u001b[0;34m,\u001b[0m \u001b[0mspawn_chance\u001b[0m\u001b[0;34m=\u001b[0m\u001b[0;36m.05\u001b[0m\u001b[0;34m)\u001b[0m\u001b[0;34m\u001b[0m\u001b[0;34m\u001b[0m\u001b[0m\n\u001b[0m",
      "\u001b[0;32m<ipython-input-4-613192940cb1>\u001b[0m in \u001b[0;36msimulate\u001b[0;34m(self, n, spawn_chance)\u001b[0m\n\u001b[1;32m     86\u001b[0m             \u001b[0;32mif\u001b[0m \u001b[0mrd\u001b[0m\u001b[0;34m.\u001b[0m\u001b[0mrandom\u001b[0m\u001b[0;34m(\u001b[0m\u001b[0;34m)\u001b[0m \u001b[0;34m<\u001b[0m \u001b[0mspawn_chance\u001b[0m\u001b[0;34m:\u001b[0m\u001b[0;34m\u001b[0m\u001b[0;34m\u001b[0m\u001b[0m\n\u001b[1;32m     87\u001b[0m                 \u001b[0mself\u001b[0m\u001b[0;34m.\u001b[0m\u001b[0madd\u001b[0m\u001b[0;34m(\u001b[0m\u001b[0mVehicle\u001b[0m\u001b[0;34m(\u001b[0m\u001b[0mrandom\u001b[0m\u001b[0;34m=\u001b[0m\u001b[0;32mTrue\u001b[0m\u001b[0;34m)\u001b[0m\u001b[0;34m)\u001b[0m\u001b[0;34m\u001b[0m\u001b[0;34m\u001b[0m\u001b[0m\n\u001b[0;32m---> 88\u001b[0;31m             \u001b[0mself\u001b[0m\u001b[0;34m.\u001b[0m\u001b[0manimate\u001b[0m\u001b[0;34m(\u001b[0m\u001b[0;34m)\u001b[0m\u001b[0;34m\u001b[0m\u001b[0;34m\u001b[0m\u001b[0m\n\u001b[0m\u001b[1;32m     89\u001b[0m \u001b[0;34m\u001b[0m\u001b[0m\n\u001b[1;32m     90\u001b[0m \u001b[0;34m\u001b[0m\u001b[0m\n",
      "\u001b[0;32m<ipython-input-4-613192940cb1>\u001b[0m in \u001b[0;36manimate\u001b[0;34m(self, n)\u001b[0m\n\u001b[1;32m     70\u001b[0m \u001b[0;34m\u001b[0m\u001b[0m\n\u001b[1;32m     71\u001b[0m             \u001b[0;31m# displays\u001b[0m\u001b[0;34m\u001b[0m\u001b[0;34m\u001b[0m\u001b[0;34m\u001b[0m\u001b[0m\n\u001b[0;32m---> 72\u001b[0;31m             \u001b[0mself\u001b[0m\u001b[0;34m.\u001b[0m\u001b[0mshow\u001b[0m\u001b[0;34m(\u001b[0m\u001b[0;34m)\u001b[0m\u001b[0;34m\u001b[0m\u001b[0;34m\u001b[0m\u001b[0m\n\u001b[0m\u001b[1;32m     73\u001b[0m \u001b[0;31m#             time.sleep(0.01)\u001b[0m\u001b[0;34m\u001b[0m\u001b[0;34m\u001b[0m\u001b[0;34m\u001b[0m\u001b[0m\n\u001b[1;32m     74\u001b[0m             \u001b[0mclear_output\u001b[0m\u001b[0;34m(\u001b[0m\u001b[0mwait\u001b[0m\u001b[0;34m=\u001b[0m\u001b[0;32mTrue\u001b[0m\u001b[0;34m)\u001b[0m\u001b[0;34m\u001b[0m\u001b[0;34m\u001b[0m\u001b[0m\n",
      "\u001b[0;32m<ipython-input-5-c964954bb96d>\u001b[0m in \u001b[0;36mshow\u001b[0;34m(self)\u001b[0m\n\u001b[1;32m      8\u001b[0m \u001b[0;34m\u001b[0m\u001b[0m\n\u001b[1;32m      9\u001b[0m     \u001b[0;32mdef\u001b[0m \u001b[0mshow\u001b[0m\u001b[0;34m(\u001b[0m\u001b[0mself\u001b[0m\u001b[0;34m)\u001b[0m\u001b[0;34m:\u001b[0m\u001b[0;34m\u001b[0m\u001b[0;34m\u001b[0m\u001b[0m\n\u001b[0;32m---> 10\u001b[0;31m         \u001b[0msuper\u001b[0m\u001b[0;34m(\u001b[0m\u001b[0;34m)\u001b[0m\u001b[0;34m.\u001b[0m\u001b[0mshow\u001b[0m\u001b[0;34m(\u001b[0m\u001b[0;34m)\u001b[0m\u001b[0;34m\u001b[0m\u001b[0;34m\u001b[0m\u001b[0m\n\u001b[0m\u001b[1;32m     11\u001b[0m         \u001b[0mplt\u001b[0m\u001b[0;34m.\u001b[0m\u001b[0mgca\u001b[0m\u001b[0;34m(\u001b[0m\u001b[0;34m)\u001b[0m\u001b[0;34m.\u001b[0m\u001b[0madd_patch\u001b[0m\u001b[0;34m(\u001b[0m\u001b[0mplt\u001b[0m\u001b[0;34m.\u001b[0m\u001b[0mRectangle\u001b[0m\u001b[0;34m(\u001b[0m\u001b[0;34m(\u001b[0m\u001b[0;36m2.45\u001b[0m\u001b[0;34m,\u001b[0m \u001b[0;36m1\u001b[0m\u001b[0;34m)\u001b[0m\u001b[0;34m,\u001b[0m \u001b[0;36m.1\u001b[0m\u001b[0;34m,\u001b[0m \u001b[0;36m1\u001b[0m\u001b[0;34m,\u001b[0m \u001b[0mfc\u001b[0m\u001b[0;34m=\u001b[0m\u001b[0;34m'black'\u001b[0m\u001b[0;34m)\u001b[0m\u001b[0;34m)\u001b[0m\u001b[0;34m\u001b[0m\u001b[0;34m\u001b[0m\u001b[0m\n\u001b[1;32m     12\u001b[0m         plt.gca().add_patch(plt.Polygon(\n",
      "\u001b[0;32m<ipython-input-4-613192940cb1>\u001b[0m in \u001b[0;36mshow\u001b[0;34m(self)\u001b[0m\n\u001b[1;32m     24\u001b[0m \u001b[0;34m\u001b[0m\u001b[0m\n\u001b[1;32m     25\u001b[0m         \u001b[0;31m# draws road\u001b[0m\u001b[0;34m\u001b[0m\u001b[0;34m\u001b[0m\u001b[0;34m\u001b[0m\u001b[0m\n\u001b[0;32m---> 26\u001b[0;31m         \u001b[0mplt\u001b[0m\u001b[0;34m.\u001b[0m\u001b[0mgca\u001b[0m\u001b[0;34m(\u001b[0m\u001b[0;34m)\u001b[0m\u001b[0;34m.\u001b[0m\u001b[0madd_patch\u001b[0m\u001b[0;34m(\u001b[0m\u001b[0mplt\u001b[0m\u001b[0;34m.\u001b[0m\u001b[0mRectangle\u001b[0m\u001b[0;34m(\u001b[0m\u001b[0;34m(\u001b[0m\u001b[0;34m-\u001b[0m\u001b[0;36m10\u001b[0m\u001b[0;34m,\u001b[0m\u001b[0;34m-\u001b[0m\u001b[0;36m1\u001b[0m\u001b[0;34m)\u001b[0m\u001b[0;34m,\u001b[0m \u001b[0;36m20\u001b[0m\u001b[0;34m,\u001b[0m \u001b[0;36m2\u001b[0m\u001b[0;34m,\u001b[0m \u001b[0mfc\u001b[0m\u001b[0;34m=\u001b[0m\u001b[0;34m'grey'\u001b[0m\u001b[0;34m)\u001b[0m\u001b[0;34m)\u001b[0m\u001b[0;34m\u001b[0m\u001b[0;34m\u001b[0m\u001b[0m\n\u001b[0m\u001b[1;32m     27\u001b[0m         \u001b[0mplt\u001b[0m\u001b[0;34m.\u001b[0m\u001b[0mgca\u001b[0m\u001b[0;34m(\u001b[0m\u001b[0;34m)\u001b[0m\u001b[0;34m.\u001b[0m\u001b[0madd_patch\u001b[0m\u001b[0;34m(\u001b[0m\u001b[0mplt\u001b[0m\u001b[0;34m.\u001b[0m\u001b[0mRectangle\u001b[0m\u001b[0;34m(\u001b[0m\u001b[0;34m(\u001b[0m\u001b[0;34m-\u001b[0m\u001b[0;36m1\u001b[0m\u001b[0;34m,\u001b[0m\u001b[0;34m-\u001b[0m\u001b[0;36m10\u001b[0m\u001b[0;34m)\u001b[0m\u001b[0;34m,\u001b[0m \u001b[0;36m2\u001b[0m\u001b[0;34m,\u001b[0m \u001b[0;36m20\u001b[0m\u001b[0;34m,\u001b[0m \u001b[0mfc\u001b[0m\u001b[0;34m=\u001b[0m\u001b[0;34m'grey'\u001b[0m\u001b[0;34m)\u001b[0m\u001b[0;34m)\u001b[0m\u001b[0;34m\u001b[0m\u001b[0;34m\u001b[0m\u001b[0m\n\u001b[1;32m     28\u001b[0m \u001b[0;34m\u001b[0m\u001b[0m\n",
      "\u001b[0;32m/opt/anaconda3/lib/python3.8/site-packages/matplotlib/pyplot.py\u001b[0m in \u001b[0;36mgca\u001b[0;34m(**kwargs)\u001b[0m\n\u001b[1;32m   2366\u001b[0m \u001b[0;34m@\u001b[0m\u001b[0m_copy_docstring_and_deprecators\u001b[0m\u001b[0;34m(\u001b[0m\u001b[0mFigure\u001b[0m\u001b[0;34m.\u001b[0m\u001b[0mgca\u001b[0m\u001b[0;34m)\u001b[0m\u001b[0;34m\u001b[0m\u001b[0;34m\u001b[0m\u001b[0m\n\u001b[1;32m   2367\u001b[0m \u001b[0;32mdef\u001b[0m \u001b[0mgca\u001b[0m\u001b[0;34m(\u001b[0m\u001b[0;34m**\u001b[0m\u001b[0mkwargs\u001b[0m\u001b[0;34m)\u001b[0m\u001b[0;34m:\u001b[0m\u001b[0;34m\u001b[0m\u001b[0;34m\u001b[0m\u001b[0m\n\u001b[0;32m-> 2368\u001b[0;31m     \u001b[0;32mreturn\u001b[0m \u001b[0mgcf\u001b[0m\u001b[0;34m(\u001b[0m\u001b[0;34m)\u001b[0m\u001b[0;34m.\u001b[0m\u001b[0mgca\u001b[0m\u001b[0;34m(\u001b[0m\u001b[0;34m**\u001b[0m\u001b[0mkwargs\u001b[0m\u001b[0;34m)\u001b[0m\u001b[0;34m\u001b[0m\u001b[0;34m\u001b[0m\u001b[0m\n\u001b[0m\u001b[1;32m   2369\u001b[0m \u001b[0;34m\u001b[0m\u001b[0m\n\u001b[1;32m   2370\u001b[0m \u001b[0;34m\u001b[0m\u001b[0m\n",
      "\u001b[0;32m/opt/anaconda3/lib/python3.8/site-packages/matplotlib/figure.py\u001b[0m in \u001b[0;36mgca\u001b[0;34m(self, **kwargs)\u001b[0m\n\u001b[1;32m   2063\u001b[0m \u001b[0;34m\u001b[0m\u001b[0m\n\u001b[1;32m   2064\u001b[0m         \u001b[0;31m# no axes found, so create one which spans the figure\u001b[0m\u001b[0;34m\u001b[0m\u001b[0;34m\u001b[0m\u001b[0;34m\u001b[0m\u001b[0m\n\u001b[0;32m-> 2065\u001b[0;31m         \u001b[0;32mreturn\u001b[0m \u001b[0mself\u001b[0m\u001b[0;34m.\u001b[0m\u001b[0madd_subplot\u001b[0m\u001b[0;34m(\u001b[0m\u001b[0;36m1\u001b[0m\u001b[0;34m,\u001b[0m \u001b[0;36m1\u001b[0m\u001b[0;34m,\u001b[0m \u001b[0;36m1\u001b[0m\u001b[0;34m,\u001b[0m \u001b[0;34m**\u001b[0m\u001b[0mkwargs\u001b[0m\u001b[0;34m)\u001b[0m\u001b[0;34m\u001b[0m\u001b[0;34m\u001b[0m\u001b[0m\n\u001b[0m\u001b[1;32m   2066\u001b[0m \u001b[0;34m\u001b[0m\u001b[0m\n\u001b[1;32m   2067\u001b[0m     \u001b[0;32mdef\u001b[0m \u001b[0msca\u001b[0m\u001b[0;34m(\u001b[0m\u001b[0mself\u001b[0m\u001b[0;34m,\u001b[0m \u001b[0ma\u001b[0m\u001b[0;34m)\u001b[0m\u001b[0;34m:\u001b[0m\u001b[0;34m\u001b[0m\u001b[0;34m\u001b[0m\u001b[0m\n",
      "\u001b[0;32m/opt/anaconda3/lib/python3.8/site-packages/matplotlib/figure.py\u001b[0m in \u001b[0;36madd_subplot\u001b[0;34m(self, *args, **kwargs)\u001b[0m\n\u001b[1;32m   1400\u001b[0m                     \u001b[0;31m# more similar to add_axes.\u001b[0m\u001b[0;34m\u001b[0m\u001b[0;34m\u001b[0m\u001b[0;34m\u001b[0m\u001b[0m\n\u001b[1;32m   1401\u001b[0m                     \u001b[0mself\u001b[0m\u001b[0;34m.\u001b[0m\u001b[0m_axstack\u001b[0m\u001b[0;34m.\u001b[0m\u001b[0mremove\u001b[0m\u001b[0;34m(\u001b[0m\u001b[0max\u001b[0m\u001b[0;34m)\u001b[0m\u001b[0;34m\u001b[0m\u001b[0;34m\u001b[0m\u001b[0m\n\u001b[0;32m-> 1402\u001b[0;31m             \u001b[0max\u001b[0m \u001b[0;34m=\u001b[0m \u001b[0msubplot_class_factory\u001b[0m\u001b[0;34m(\u001b[0m\u001b[0mprojection_class\u001b[0m\u001b[0;34m)\u001b[0m\u001b[0;34m(\u001b[0m\u001b[0mself\u001b[0m\u001b[0;34m,\u001b[0m \u001b[0;34m*\u001b[0m\u001b[0margs\u001b[0m\u001b[0;34m,\u001b[0m \u001b[0;34m**\u001b[0m\u001b[0mkwargs\u001b[0m\u001b[0;34m)\u001b[0m\u001b[0;34m\u001b[0m\u001b[0;34m\u001b[0m\u001b[0m\n\u001b[0m\u001b[1;32m   1403\u001b[0m \u001b[0;34m\u001b[0m\u001b[0m\n\u001b[1;32m   1404\u001b[0m         \u001b[0;32mreturn\u001b[0m \u001b[0mself\u001b[0m\u001b[0;34m.\u001b[0m\u001b[0m_add_axes_internal\u001b[0m\u001b[0;34m(\u001b[0m\u001b[0mkey\u001b[0m\u001b[0;34m,\u001b[0m \u001b[0max\u001b[0m\u001b[0;34m)\u001b[0m\u001b[0;34m\u001b[0m\u001b[0;34m\u001b[0m\u001b[0m\n",
      "\u001b[0;32m/opt/anaconda3/lib/python3.8/site-packages/matplotlib/axes/_subplots.py\u001b[0m in \u001b[0;36m__init__\u001b[0;34m(self, fig, *args, **kwargs)\u001b[0m\n\u001b[1;32m     40\u001b[0m         \u001b[0mself\u001b[0m\u001b[0;34m.\u001b[0m\u001b[0mupdate_params\u001b[0m\u001b[0;34m(\u001b[0m\u001b[0;34m)\u001b[0m\u001b[0;34m\u001b[0m\u001b[0;34m\u001b[0m\u001b[0m\n\u001b[1;32m     41\u001b[0m         \u001b[0;31m# _axes_class is set in the subplot_class_factory\u001b[0m\u001b[0;34m\u001b[0m\u001b[0;34m\u001b[0m\u001b[0;34m\u001b[0m\u001b[0m\n\u001b[0;32m---> 42\u001b[0;31m         \u001b[0mself\u001b[0m\u001b[0;34m.\u001b[0m\u001b[0m_axes_class\u001b[0m\u001b[0;34m.\u001b[0m\u001b[0m__init__\u001b[0m\u001b[0;34m(\u001b[0m\u001b[0mself\u001b[0m\u001b[0;34m,\u001b[0m \u001b[0mfig\u001b[0m\u001b[0;34m,\u001b[0m \u001b[0mself\u001b[0m\u001b[0;34m.\u001b[0m\u001b[0mfigbox\u001b[0m\u001b[0;34m,\u001b[0m \u001b[0;34m**\u001b[0m\u001b[0mkwargs\u001b[0m\u001b[0;34m)\u001b[0m\u001b[0;34m\u001b[0m\u001b[0;34m\u001b[0m\u001b[0m\n\u001b[0m\u001b[1;32m     43\u001b[0m         \u001b[0;31m# add a layout box to this, for both the full axis, and the poss\u001b[0m\u001b[0;34m\u001b[0m\u001b[0;34m\u001b[0m\u001b[0;34m\u001b[0m\u001b[0m\n\u001b[1;32m     44\u001b[0m         \u001b[0;31m# of the axis.  We need both because the axes may become smaller\u001b[0m\u001b[0;34m\u001b[0m\u001b[0;34m\u001b[0m\u001b[0;34m\u001b[0m\u001b[0m\n",
      "\u001b[0;32m/opt/anaconda3/lib/python3.8/site-packages/matplotlib/axes/_base.py\u001b[0m in \u001b[0;36m__init__\u001b[0;34m(self, fig, rect, facecolor, frameon, sharex, sharey, label, xscale, yscale, box_aspect, **kwargs)\u001b[0m\n\u001b[1;32m    509\u001b[0m \u001b[0;34m\u001b[0m\u001b[0m\n\u001b[1;32m    510\u001b[0m         \u001b[0mself\u001b[0m\u001b[0;34m.\u001b[0m\u001b[0m_rasterization_zorder\u001b[0m \u001b[0;34m=\u001b[0m \u001b[0;32mNone\u001b[0m\u001b[0;34m\u001b[0m\u001b[0;34m\u001b[0m\u001b[0m\n\u001b[0;32m--> 511\u001b[0;31m         \u001b[0mself\u001b[0m\u001b[0;34m.\u001b[0m\u001b[0mcla\u001b[0m\u001b[0;34m(\u001b[0m\u001b[0;34m)\u001b[0m\u001b[0;34m\u001b[0m\u001b[0;34m\u001b[0m\u001b[0m\n\u001b[0m\u001b[1;32m    512\u001b[0m \u001b[0;34m\u001b[0m\u001b[0m\n\u001b[1;32m    513\u001b[0m         \u001b[0;31m# funcs used to format x and y - fall back on major formatters\u001b[0m\u001b[0;34m\u001b[0m\u001b[0;34m\u001b[0m\u001b[0;34m\u001b[0m\u001b[0m\n",
      "\u001b[0;32m/opt/anaconda3/lib/python3.8/site-packages/matplotlib/axes/_base.py\u001b[0m in \u001b[0;36mcla\u001b[0;34m(self)\u001b[0m\n\u001b[1;32m   1150\u001b[0m         \u001b[0;31m# the other artists.  We use the frame to draw the edges so we are\u001b[0m\u001b[0;34m\u001b[0m\u001b[0;34m\u001b[0m\u001b[0;34m\u001b[0m\u001b[0m\n\u001b[1;32m   1151\u001b[0m         \u001b[0;31m# setting the edgecolor to None.\u001b[0m\u001b[0;34m\u001b[0m\u001b[0;34m\u001b[0m\u001b[0;34m\u001b[0m\u001b[0m\n\u001b[0;32m-> 1152\u001b[0;31m         \u001b[0mself\u001b[0m\u001b[0;34m.\u001b[0m\u001b[0mpatch\u001b[0m \u001b[0;34m=\u001b[0m \u001b[0mself\u001b[0m\u001b[0;34m.\u001b[0m\u001b[0m_gen_axes_patch\u001b[0m\u001b[0;34m(\u001b[0m\u001b[0;34m)\u001b[0m\u001b[0;34m\u001b[0m\u001b[0;34m\u001b[0m\u001b[0m\n\u001b[0m\u001b[1;32m   1153\u001b[0m         \u001b[0mself\u001b[0m\u001b[0;34m.\u001b[0m\u001b[0mpatch\u001b[0m\u001b[0;34m.\u001b[0m\u001b[0mset_figure\u001b[0m\u001b[0;34m(\u001b[0m\u001b[0mself\u001b[0m\u001b[0;34m.\u001b[0m\u001b[0mfigure\u001b[0m\u001b[0;34m)\u001b[0m\u001b[0;34m\u001b[0m\u001b[0;34m\u001b[0m\u001b[0m\n\u001b[1;32m   1154\u001b[0m         \u001b[0mself\u001b[0m\u001b[0;34m.\u001b[0m\u001b[0mpatch\u001b[0m\u001b[0;34m.\u001b[0m\u001b[0mset_facecolor\u001b[0m\u001b[0;34m(\u001b[0m\u001b[0mself\u001b[0m\u001b[0;34m.\u001b[0m\u001b[0m_facecolor\u001b[0m\u001b[0;34m)\u001b[0m\u001b[0;34m\u001b[0m\u001b[0;34m\u001b[0m\u001b[0m\n",
      "\u001b[0;32m/opt/anaconda3/lib/python3.8/site-packages/matplotlib/axes/_base.py\u001b[0m in \u001b[0;36m_gen_axes_patch\u001b[0;34m(self)\u001b[0m\n\u001b[1;32m    978\u001b[0m         \u001b[0mIntended\u001b[0m \u001b[0mto\u001b[0m \u001b[0mbe\u001b[0m \u001b[0moverridden\u001b[0m \u001b[0mby\u001b[0m \u001b[0mnew\u001b[0m \u001b[0mprojection\u001b[0m \u001b[0mtypes\u001b[0m\u001b[0;34m.\u001b[0m\u001b[0;34m\u001b[0m\u001b[0;34m\u001b[0m\u001b[0m\n\u001b[1;32m    979\u001b[0m         \"\"\"\n\u001b[0;32m--> 980\u001b[0;31m         \u001b[0;32mreturn\u001b[0m \u001b[0mmpatches\u001b[0m\u001b[0;34m.\u001b[0m\u001b[0mRectangle\u001b[0m\u001b[0;34m(\u001b[0m\u001b[0;34m(\u001b[0m\u001b[0;36m0.0\u001b[0m\u001b[0;34m,\u001b[0m \u001b[0;36m0.0\u001b[0m\u001b[0;34m)\u001b[0m\u001b[0;34m,\u001b[0m \u001b[0;36m1.0\u001b[0m\u001b[0;34m,\u001b[0m \u001b[0;36m1.0\u001b[0m\u001b[0;34m)\u001b[0m\u001b[0;34m\u001b[0m\u001b[0;34m\u001b[0m\u001b[0m\n\u001b[0m\u001b[1;32m    981\u001b[0m \u001b[0;34m\u001b[0m\u001b[0m\n\u001b[1;32m    982\u001b[0m     \u001b[0;32mdef\u001b[0m \u001b[0m_gen_axes_spines\u001b[0m\u001b[0;34m(\u001b[0m\u001b[0mself\u001b[0m\u001b[0;34m,\u001b[0m \u001b[0mlocations\u001b[0m\u001b[0;34m=\u001b[0m\u001b[0;32mNone\u001b[0m\u001b[0;34m,\u001b[0m \u001b[0moffset\u001b[0m\u001b[0;34m=\u001b[0m\u001b[0;36m0.0\u001b[0m\u001b[0;34m,\u001b[0m \u001b[0munits\u001b[0m\u001b[0;34m=\u001b[0m\u001b[0;34m'inches'\u001b[0m\u001b[0;34m)\u001b[0m\u001b[0;34m:\u001b[0m\u001b[0;34m\u001b[0m\u001b[0;34m\u001b[0m\u001b[0m\n",
      "\u001b[0;32m/opt/anaconda3/lib/python3.8/site-packages/matplotlib/patches.py\u001b[0m in \u001b[0;36m__init__\u001b[0;34m(self, xy, width, height, angle, **kwargs)\u001b[0m\n\u001b[1;32m    740\u001b[0m         \"\"\"\n\u001b[1;32m    741\u001b[0m \u001b[0;34m\u001b[0m\u001b[0m\n\u001b[0;32m--> 742\u001b[0;31m         \u001b[0mPatch\u001b[0m\u001b[0;34m.\u001b[0m\u001b[0m__init__\u001b[0m\u001b[0;34m(\u001b[0m\u001b[0mself\u001b[0m\u001b[0;34m,\u001b[0m \u001b[0;34m**\u001b[0m\u001b[0mkwargs\u001b[0m\u001b[0;34m)\u001b[0m\u001b[0;34m\u001b[0m\u001b[0;34m\u001b[0m\u001b[0m\n\u001b[0m\u001b[1;32m    743\u001b[0m \u001b[0;34m\u001b[0m\u001b[0m\n\u001b[1;32m    744\u001b[0m         \u001b[0mself\u001b[0m\u001b[0;34m.\u001b[0m\u001b[0m_x0\u001b[0m \u001b[0;34m=\u001b[0m \u001b[0mxy\u001b[0m\u001b[0;34m[\u001b[0m\u001b[0;36m0\u001b[0m\u001b[0;34m]\u001b[0m\u001b[0;34m\u001b[0m\u001b[0;34m\u001b[0m\u001b[0m\n",
      "\u001b[0;32m/opt/anaconda3/lib/python3.8/site-packages/matplotlib/patches.py\u001b[0m in \u001b[0;36m__init__\u001b[0;34m(self, edgecolor, facecolor, color, linewidth, linestyle, antialiased, hatch, fill, capstyle, joinstyle, **kwargs)\u001b[0m\n\u001b[1;32m     79\u001b[0m         \u001b[0;32melse\u001b[0m\u001b[0;34m:\u001b[0m\u001b[0;34m\u001b[0m\u001b[0;34m\u001b[0m\u001b[0m\n\u001b[1;32m     80\u001b[0m             \u001b[0mself\u001b[0m\u001b[0;34m.\u001b[0m\u001b[0mset_edgecolor\u001b[0m\u001b[0;34m(\u001b[0m\u001b[0medgecolor\u001b[0m\u001b[0;34m)\u001b[0m\u001b[0;34m\u001b[0m\u001b[0;34m\u001b[0m\u001b[0m\n\u001b[0;32m---> 81\u001b[0;31m             \u001b[0mself\u001b[0m\u001b[0;34m.\u001b[0m\u001b[0mset_facecolor\u001b[0m\u001b[0;34m(\u001b[0m\u001b[0mfacecolor\u001b[0m\u001b[0;34m)\u001b[0m\u001b[0;34m\u001b[0m\u001b[0;34m\u001b[0m\u001b[0m\n\u001b[0m\u001b[1;32m     82\u001b[0m         \u001b[0;31m# unscaled dashes.  Needed to scale dash patterns by lw\u001b[0m\u001b[0;34m\u001b[0m\u001b[0;34m\u001b[0m\u001b[0;34m\u001b[0m\u001b[0m\n\u001b[1;32m     83\u001b[0m         \u001b[0mself\u001b[0m\u001b[0;34m.\u001b[0m\u001b[0m_us_dashes\u001b[0m \u001b[0;34m=\u001b[0m \u001b[0;32mNone\u001b[0m\u001b[0;34m\u001b[0m\u001b[0;34m\u001b[0m\u001b[0m\n",
      "\u001b[0;32m/opt/anaconda3/lib/python3.8/site-packages/matplotlib/patches.py\u001b[0m in \u001b[0;36mset_facecolor\u001b[0;34m(self, color)\u001b[0m\n\u001b[1;32m    353\u001b[0m         \"\"\"\n\u001b[1;32m    354\u001b[0m         \u001b[0mself\u001b[0m\u001b[0;34m.\u001b[0m\u001b[0m_original_facecolor\u001b[0m \u001b[0;34m=\u001b[0m \u001b[0mcolor\u001b[0m\u001b[0;34m\u001b[0m\u001b[0;34m\u001b[0m\u001b[0m\n\u001b[0;32m--> 355\u001b[0;31m         \u001b[0mself\u001b[0m\u001b[0;34m.\u001b[0m\u001b[0m_set_facecolor\u001b[0m\u001b[0;34m(\u001b[0m\u001b[0mcolor\u001b[0m\u001b[0;34m)\u001b[0m\u001b[0;34m\u001b[0m\u001b[0;34m\u001b[0m\u001b[0m\n\u001b[0m\u001b[1;32m    356\u001b[0m \u001b[0;34m\u001b[0m\u001b[0m\n\u001b[1;32m    357\u001b[0m     \u001b[0;32mdef\u001b[0m \u001b[0mset_color\u001b[0m\u001b[0;34m(\u001b[0m\u001b[0mself\u001b[0m\u001b[0;34m,\u001b[0m \u001b[0mc\u001b[0m\u001b[0;34m)\u001b[0m\u001b[0;34m:\u001b[0m\u001b[0;34m\u001b[0m\u001b[0;34m\u001b[0m\u001b[0m\n",
      "\u001b[0;32m/opt/anaconda3/lib/python3.8/site-packages/matplotlib/patches.py\u001b[0m in \u001b[0;36m_set_facecolor\u001b[0;34m(self, color)\u001b[0m\n\u001b[1;32m    341\u001b[0m             \u001b[0mcolor\u001b[0m \u001b[0;34m=\u001b[0m \u001b[0mmpl\u001b[0m\u001b[0;34m.\u001b[0m\u001b[0mrcParams\u001b[0m\u001b[0;34m[\u001b[0m\u001b[0;34m'patch.facecolor'\u001b[0m\u001b[0;34m]\u001b[0m\u001b[0;34m\u001b[0m\u001b[0;34m\u001b[0m\u001b[0m\n\u001b[1;32m    342\u001b[0m         \u001b[0malpha\u001b[0m \u001b[0;34m=\u001b[0m \u001b[0mself\u001b[0m\u001b[0;34m.\u001b[0m\u001b[0m_alpha\u001b[0m \u001b[0;32mif\u001b[0m \u001b[0mself\u001b[0m\u001b[0;34m.\u001b[0m\u001b[0m_fill\u001b[0m \u001b[0;32melse\u001b[0m \u001b[0;36m0\u001b[0m\u001b[0;34m\u001b[0m\u001b[0;34m\u001b[0m\u001b[0m\n\u001b[0;32m--> 343\u001b[0;31m         \u001b[0mself\u001b[0m\u001b[0;34m.\u001b[0m\u001b[0m_facecolor\u001b[0m \u001b[0;34m=\u001b[0m \u001b[0mcolors\u001b[0m\u001b[0;34m.\u001b[0m\u001b[0mto_rgba\u001b[0m\u001b[0;34m(\u001b[0m\u001b[0mcolor\u001b[0m\u001b[0;34m,\u001b[0m \u001b[0malpha\u001b[0m\u001b[0;34m)\u001b[0m\u001b[0;34m\u001b[0m\u001b[0;34m\u001b[0m\u001b[0m\n\u001b[0m\u001b[1;32m    344\u001b[0m         \u001b[0mself\u001b[0m\u001b[0;34m.\u001b[0m\u001b[0mstale\u001b[0m \u001b[0;34m=\u001b[0m \u001b[0;32mTrue\u001b[0m\u001b[0;34m\u001b[0m\u001b[0;34m\u001b[0m\u001b[0m\n\u001b[1;32m    345\u001b[0m \u001b[0;34m\u001b[0m\u001b[0m\n",
      "\u001b[0;32m/opt/anaconda3/lib/python3.8/site-packages/matplotlib/colors.py\u001b[0m in \u001b[0;36mto_rgba\u001b[0;34m(c, alpha)\u001b[0m\n\u001b[1;32m    180\u001b[0m         \u001b[0;32mfrom\u001b[0m \u001b[0mmatplotlib\u001b[0m \u001b[0;32mimport\u001b[0m \u001b[0mrcParams\u001b[0m\u001b[0;34m\u001b[0m\u001b[0;34m\u001b[0m\u001b[0m\n\u001b[1;32m    181\u001b[0m         \u001b[0mprop_cycler\u001b[0m \u001b[0;34m=\u001b[0m \u001b[0mrcParams\u001b[0m\u001b[0;34m[\u001b[0m\u001b[0;34m'axes.prop_cycle'\u001b[0m\u001b[0;34m]\u001b[0m\u001b[0;34m\u001b[0m\u001b[0;34m\u001b[0m\u001b[0m\n\u001b[0;32m--> 182\u001b[0;31m         \u001b[0mcolors\u001b[0m \u001b[0;34m=\u001b[0m \u001b[0mprop_cycler\u001b[0m\u001b[0;34m.\u001b[0m\u001b[0mby_key\u001b[0m\u001b[0;34m(\u001b[0m\u001b[0;34m)\u001b[0m\u001b[0;34m.\u001b[0m\u001b[0mget\u001b[0m\u001b[0;34m(\u001b[0m\u001b[0;34m'color'\u001b[0m\u001b[0;34m,\u001b[0m \u001b[0;34m[\u001b[0m\u001b[0;34m'k'\u001b[0m\u001b[0;34m]\u001b[0m\u001b[0;34m)\u001b[0m\u001b[0;34m\u001b[0m\u001b[0;34m\u001b[0m\u001b[0m\n\u001b[0m\u001b[1;32m    183\u001b[0m         \u001b[0mc\u001b[0m \u001b[0;34m=\u001b[0m \u001b[0mcolors\u001b[0m\u001b[0;34m[\u001b[0m\u001b[0mint\u001b[0m\u001b[0;34m(\u001b[0m\u001b[0mc\u001b[0m\u001b[0;34m[\u001b[0m\u001b[0;36m1\u001b[0m\u001b[0;34m:\u001b[0m\u001b[0;34m]\u001b[0m\u001b[0;34m)\u001b[0m \u001b[0;34m%\u001b[0m \u001b[0mlen\u001b[0m\u001b[0;34m(\u001b[0m\u001b[0mcolors\u001b[0m\u001b[0;34m)\u001b[0m\u001b[0;34m]\u001b[0m\u001b[0;34m\u001b[0m\u001b[0;34m\u001b[0m\u001b[0m\n\u001b[1;32m    184\u001b[0m     \u001b[0;32mtry\u001b[0m\u001b[0;34m:\u001b[0m\u001b[0;34m\u001b[0m\u001b[0;34m\u001b[0m\u001b[0m\n",
      "\u001b[0;32m/opt/anaconda3/lib/python3.8/site-packages/cycler.py\u001b[0m in \u001b[0;36mby_key\u001b[0;34m(self)\u001b[0m\n\u001b[1;32m    373\u001b[0m         \u001b[0;32mfor\u001b[0m \u001b[0md\u001b[0m \u001b[0;32min\u001b[0m \u001b[0mself\u001b[0m\u001b[0;34m:\u001b[0m\u001b[0;34m\u001b[0m\u001b[0;34m\u001b[0m\u001b[0m\n\u001b[1;32m    374\u001b[0m             \u001b[0;32mfor\u001b[0m \u001b[0mk\u001b[0m \u001b[0;32min\u001b[0m \u001b[0mkeys\u001b[0m\u001b[0;34m:\u001b[0m\u001b[0;34m\u001b[0m\u001b[0;34m\u001b[0m\u001b[0m\n\u001b[0;32m--> 375\u001b[0;31m                 \u001b[0mout\u001b[0m\u001b[0;34m[\u001b[0m\u001b[0mk\u001b[0m\u001b[0;34m]\u001b[0m\u001b[0;34m.\u001b[0m\u001b[0mappend\u001b[0m\u001b[0;34m(\u001b[0m\u001b[0md\u001b[0m\u001b[0;34m[\u001b[0m\u001b[0mk\u001b[0m\u001b[0;34m]\u001b[0m\u001b[0;34m)\u001b[0m\u001b[0;34m\u001b[0m\u001b[0;34m\u001b[0m\u001b[0m\n\u001b[0m\u001b[1;32m    376\u001b[0m         \u001b[0;32mreturn\u001b[0m \u001b[0mout\u001b[0m\u001b[0;34m\u001b[0m\u001b[0;34m\u001b[0m\u001b[0m\n\u001b[1;32m    377\u001b[0m \u001b[0;34m\u001b[0m\u001b[0m\n",
      "\u001b[0;31mKeyboardInterrupt\u001b[0m: "
     ]
    },
    {
     "data": {
      "text/plain": [
       "<Figure size 720x720 with 0 Axes>"
      ]
     },
     "metadata": {},
     "output_type": "display_data"
    }
   ],
   "source": [
    "# Simulate traffic\n",
    "road = Stopsign()\n",
    "road.simulate(n=1500, spawn_chance=.05)"
   ]
  },
  {
   "cell_type": "markdown",
   "id": "00212c85",
   "metadata": {},
   "source": [
    "# Stoplight"
   ]
  },
  {
   "cell_type": "markdown",
   "id": "003029bb",
   "metadata": {},
   "source": [
    "Need to do:\n",
    "1. Add yellow light mechanic\n",
    "2. Add left turn behavior\n",
    "3. Fix turn acceleration\n"
   ]
  },
  {
   "cell_type": "code",
   "execution_count": 37,
   "id": "2473812f",
   "metadata": {},
   "outputs": [],
   "source": [
    "class Stoplight(Intersection):    \n",
    "    '''Subclass of Intersection that carries behavior of the stoplight'''\n",
    "    \n",
    "    def __init__(self, n=0, cycle_time=100, cur_time=0):\n",
    "        '''Defines Stoplight object'''\n",
    "        super().__init__(n)\n",
    "        self.light = [1, 0, 1, 0]\n",
    "        self.cycle_time = cycle_time\n",
    "        self.cur_time = cur_time\n",
    "    \n",
    "    def show(self):\n",
    "        super().show()\n",
    "        colors = ['red', 'lime']\n",
    "        plt.gca().add_patch(plt.Circle((-1.7, 3), .5, fc=colors[self.light[0]]))\n",
    "        plt.gca().add_patch(plt.Circle((3, 1.7), .5, fc=colors[self.light[1]]))\n",
    "        plt.gca().add_patch(plt.Circle((1.7, -3), .5, fc=colors[self.light[2]]))\n",
    "        plt.gca().add_patch(plt.Circle((-3, -1.7), .5, fc=colors[self.light[3]]))\n",
    "\n",
    "    def timestep(self):\n",
    "        '''Includes unique behavior of stoplight'''\n",
    "        # update stoplight\n",
    "        if self.cycle_time-self.cur_time == 0:\n",
    "            self.light = [abs(i-1) for i in self.light]\n",
    "            self.cur_time -= self.cycle_time-1\n",
    "        else:\n",
    "            self.cur_time += 1\n",
    "        \n",
    "        # update vehicles \n",
    "        for v in self.vehicles:\n",
    "\n",
    "            loc = v.get_loc()\n",
    "            pos = v.get_pos()\n",
    "            t = v.get_t()\n",
    "            speed = v.get_speed()\n",
    "            maxspeed = v.get_maxspeed()\n",
    "            \n",
    "            # brake zone\n",
    "            if t > 6.5 and t < 8.2:\n",
    "                # braking for red light\n",
    "                if self.light[loc[1]] == 0:\n",
    "                    v.set_speed((8.5-t)*maxspeed/2)\n",
    "                \n",
    "            # accelerating from stop\n",
    "            elif (t >= 8.2 and t < 11.6) and speed<maxspeed:\n",
    "                if speed == 0 and self.light[loc[1]] == 1:\n",
    "                    v.set_stop(False)\n",
    "                if v.get_stop():\n",
    "                    v.set_speed(0)\n",
    "                else:\n",
    "                    v.set_speed((t-7.1)*maxspeed/4.5)\n",
    "            \n",
    "            # max speed driving\n",
    "            elif t >= 11.6 or t <= 6.5:\n",
    "                v.set_speed(maxspeed)\n",
    "                        \n",
    "            # braking for vehicle\n",
    "            others = self.vehicles[:]\n",
    "            others.remove(v)\n",
    "            for c in others:\n",
    "                # if on same axis, close together, and behind the other vehicle, slow down\n",
    "                if (c.get_pos()[0]==pos[0] or c.get_pos()[1]==pos[1]) and (math.dist(c.get_pos(),pos)<2) and (t<c.get_t()):\n",
    "                    new_speed = (math.dist(c.get_pos(),pos)-1)*maxspeed\n",
    "                    if new_speed < v.get_speed():\n",
    "                        v.set_speed(new_speed)\n",
    "            \n",
    "            v.move()\n",
    "            \n",
    "            if t > 22:\n",
    "                self.vehicles.remove(v)"
   ]
  },
  {
   "cell_type": "code",
   "execution_count": 24,
   "id": "74b451c4",
   "metadata": {},
   "outputs": [
    {
     "data": {
      "image/png": "[encoded data removed]",
      "text/plain": [
       "<Figure size 504x504 with 1 Axes>"
      ]
     },
     "metadata": {},
     "output_type": "display_data"
    }
   ],
   "source": [
    "# Show image\n",
    "road = Stoplight(1)\n",
    "plt.figure(figsize=(7,7))\n",
    "road.show()"
   ]
  },
  {
   "cell_type": "code",
   "execution_count": 38,
   "id": "aca88a2f",
   "metadata": {},
   "outputs": [
    {
     "data": {
      "image/png": "[encoded data removed]",
      "text/plain": [
       "<Figure size 720x720 with 1 Axes>"
      ]
     },
     "metadata": {},
     "output_type": "display_data"
    }
   ],
   "source": [
    "# Simulate two cars\n",
    "road = Stoplight()\n",
    "road.add_vehicle(Vehicle(maxspeed=.1, loc='down', dest='left', random=False))\n",
    "road.animate(30)\n",
    "road.add_vehicle(Vehicle(maxspeed=.1, loc='right', dest='up', random=False))\n",
    "road.animate(260)"
   ]
  },
  {
   "cell_type": "code",
   "execution_count": null,
   "id": "0c018801",
   "metadata": {},
   "outputs": [
    {
     "data": {
      "image/png": "[encoded data removed]",
      "text/plain": [
       "<Figure size 720x720 with 1 Axes>"
      ]
     },
     "metadata": {},
     "output_type": "display_data"
    }
   ],
   "source": [
    "# Simulate traffic\n",
    "road = Stoplight()\n",
    "road.simulate(n=1500, spawn_chance=.05)"
   ]
  },
  {
   "cell_type": "code",
   "execution_count": null,
   "id": "2e63e0e7",
   "metadata": {},
   "outputs": [],
   "source": []
  }
 ],
 "metadata": {
  "kernelspec": {
   "display_name": "Python 3",
   "language": "python",
   "name": "python3"
  },
  "language_info": {
   "codemirror_mode": {
    "name": "ipython",
    "version": 3
   },
   "file_extension": ".py",
   "mimetype": "text/x-python",
   "name": "python",
   "nbconvert_exporter": "python",
   "pygments_lexer": "ipython3",
   "version": "3.8.8"
  }
 },
 "nbformat": 4,
 "nbformat_minor": 5
}
