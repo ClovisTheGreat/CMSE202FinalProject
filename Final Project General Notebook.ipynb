{
 "cells": [
  {
   "cell_type": "code",
   "execution_count": 20,
   "id": "e8f9d265",
   "metadata": {},
   "outputs": [],
   "source": [
    "import numpy as np\n",
    "import matplotlib.pyplot as plt\n",
    "import pandas as pd\n",
    "import random as rd\n",
    "import time\n",
    "from IPython.display import display, clear_output"
   ]
  },
  {
   "cell_type": "code",
   "execution_count": 71,
   "id": "02b11767",
   "metadata": {},
   "outputs": [],
   "source": [
    "class Vehicle():\n",
    "    '''General vehicle class'''\n",
    "    \n",
    "    def __init__(self, pos=(-10,0), vel=(.1,0), dest='right', risky=False, random=False):\n",
    "        '''Defines the vehicle'''\n",
    "        if random:\n",
    "            x = rd.random()\n",
    "            if x <.25:\n",
    "                self.position = (-.5,10)\n",
    "            elif x <.50:\n",
    "                self.position = (10,.5)\n",
    "            elif x <.75:\n",
    "                self.position = (.5,-10)\n",
    "            else:\n",
    "                self.position = (-10,-.5)\n",
    "        else:\n",
    "            self.position = pos\n",
    "        self.velocity = vel\n",
    "        self.destination = dest\n",
    "        self.risky = risky\n",
    "\n",
    "    def move(self):\n",
    "        '''Updates position based on velocity'''\n",
    "        self.position = (self.position[0]+self.velocity[0], self.position[1]+self.velocity[1])\n",
    "    \n",
    "    def set_pos(self, pos):\n",
    "        '''Sets position of vehicle'''\n",
    "        self.position = pos\n",
    "        \n",
    "    def get_pos(self):\n",
    "        '''Gets position of vehicle'''\n",
    "        return self.position\n",
    "    \n",
    "    def set_vel(self, vel):\n",
    "        '''Sets velocity of vehicle'''\n",
    "        self.velocity = vel\n",
    "        \n",
    "    def get_vel(self):\n",
    "        '''Gets velocity of vehicle'''\n",
    "        return self.velocity"
   ]
  },
  {
   "cell_type": "code",
   "execution_count": 69,
   "id": "860ff45d",
   "metadata": {},
   "outputs": [],
   "source": [
    "class Intersection():\n",
    "    '''General intersection class'''\n",
    "    \n",
    "    def __init__(self, n):\n",
    "        '''Defines the intersection'''\n",
    "        self.vehicles = []\n",
    "        for i in range(n):\n",
    "            self.vehicles.append(Vehicle(random=True))\n",
    "            \n",
    "    def add_vehicle(self, vehicle):\n",
    "        '''Adds one vehicle to the intersection'''\n",
    "        self.vehicles.append(vehicle)\n",
    "    \n",
    "    def show(self):\n",
    "        '''Graphs a static visual of the intersection, roads, and vehicles'''\n",
    "        \n",
    "        # draws road\n",
    "        plt.gca().add_patch(plt.Rectangle((-10,-1), 20, 2, fc='grey'))\n",
    "        plt.gca().add_patch(plt.Rectangle((-1,-10), 2, 20, fc='grey'))\n",
    "        \n",
    "        plt.gca().add_patch(plt.Rectangle((-10,-10), 9, 9, fc='green', ec='black'))\n",
    "        plt.gca().add_patch(plt.Rectangle((1,-10), 9, 9, fc='green', ec='black'))\n",
    "        plt.gca().add_patch(plt.Rectangle((-10,1), 9, 9, fc='green', ec='black'))\n",
    "        plt.gca().add_patch(plt.Rectangle((1,1), 9, 9, fc='green', ec='black'))\n",
    "        \n",
    "        plt.gca().add_patch(plt.Rectangle((-9,-.25), 1.5, .5, fc='yellow'))\n",
    "        plt.gca().add_patch(plt.Rectangle((-5,-.25), 1.5, .5, fc='yellow'))\n",
    "        \n",
    "        plt.gca().add_patch(plt.Rectangle((7.5,-.25), 1.5, .5, fc='yellow'))\n",
    "        plt.gca().add_patch(plt.Rectangle((3.5,-.25), 1.5, .5, fc='yellow'))\n",
    "        \n",
    "        plt.gca().add_patch(plt.Rectangle((-.25, -9), .5, 1.5, fc='yellow'))\n",
    "        plt.gca().add_patch(plt.Rectangle((-.25, -5), .5, 1.5, fc='yellow'))\n",
    "        \n",
    "        plt.gca().add_patch(plt.Rectangle((-.25, 7.5), .5, 1.5, fc='yellow'))\n",
    "        plt.gca().add_patch(plt.Rectangle((-.25, 3.5), .5, 1.5, fc='yellow'))\n",
    "        \n",
    "        \n",
    "        for v in self.vehicles:\n",
    "            x,y = v.get_pos()\n",
    "            plt.plot(x, y, 'rs', markersize=10) \n",
    "        \n",
    "        plt.xlim([-10, 10])\n",
    "        plt.ylim([-10, 10])\n",
    "        \n",
    "        plt.tick_params(axis='both', which='both',\n",
    "                bottom=False, top=False, left=False, right=False,\n",
    "                labelbottom=False, labelleft=False)\n",
    "    \n",
    "    def timestep(self):\n",
    "        '''Advances the vehicles generally for all intersections'''\n",
    "        for v in self.vehicles:\n",
    "            v.move()\n",
    "    \n",
    "    def animate(self):\n",
    "        '''Loops over timesteps while displaying snapshots'''\n",
    "        fig = plt.figure(figsize=(10,10))\n",
    "        \n",
    "        for i in range(20):\n",
    "            \n",
    "            # displays\n",
    "            self.show()\n",
    "            time.sleep(0.01)\n",
    "            clear_output(wait=True)\n",
    "            display(fig)\n",
    "            fig.clear()\n",
    "            \n",
    "            # advances simulation\n",
    "            self.timestep()\n",
    "            \n",
    "        plt.close()\n"
   ]
  },
  {
   "cell_type": "code",
   "execution_count": 12,
   "id": "b37c3cbc",
   "metadata": {},
   "outputs": [],
   "source": [
    "class Stopsign(Intersection):    \n",
    "    '''Subclass of Intersection that carries behavior of the 4-way stop'''\n",
    "    \n",
    "    def __init__(self):\n",
    "        '''Defines Stopsign object'''\n",
    "        super().__init__()\n",
    "    \n",
    "    def timestep(self):\n",
    "        '''Includes unique behavior of 4-way stop'''\n",
    "        pass"
   ]
  },
  {
   "cell_type": "code",
   "execution_count": 6,
   "id": "ac4b7976",
   "metadata": {},
   "outputs": [],
   "source": [
    "class Stoplight(Intersection):    \n",
    "    '''Subclass of Intersection that carries behavior of the stoplight'''\n",
    "    \n",
    "    def __init__(self):\n",
    "        '''Defines Stoplight object'''\n",
    "        super().__init__()\n",
    "    \n",
    "    def timestep(self):\n",
    "        '''Includes unique behavior of stoplight'''\n",
    "        pass"
   ]
  },
  {
   "cell_type": "code",
   "execution_count": 72,
   "id": "658fd69e",
   "metadata": {},
   "outputs": [
    {
     "data": {
      "image/png": "[encoded data removed]",
      "text/plain": [
       "<Figure size 504x504 with 1 Axes>"
      ]
     },
     "metadata": {},
     "output_type": "display_data"
    }
   ],
   "source": [
    "road = Intersection(3)\n",
    "plt.figure(figsize=(7,7))\n",
    "road.show()"
   ]
  },
  {
   "cell_type": "code",
   "execution_count": 73,
   "id": "031fd69e",
   "metadata": {},
   "outputs": [
    {
     "data": {
      "image/png": "[encoded data removed]",
      "text/plain": [
       "<Figure size 720x720 with 1 Axes>"
      ]
     },
     "metadata": {},
     "output_type": "display_data"
    }
   ],
   "source": [
    "road = Intersection(3)\n",
    "road.animate()"
   ]
  },
  {
   "cell_type": "code",
   "execution_count": null,
   "id": "de98c9b8",
   "metadata": {},
   "outputs": [],
   "source": []
  }
 ],
 "metadata": {
  "kernelspec": {
   "display_name": "Python 3",
   "language": "python",
   "name": "python3"
  },
  "language_info": {
   "codemirror_mode": {
    "name": "ipython",
    "version": 3
   },
   "file_extension": ".py",
   "mimetype": "text/x-python",
   "name": "python",
   "nbconvert_exporter": "python",
   "pygments_lexer": "ipython3",
   "version": "3.8.8"
  }
 },
 "nbformat": 4,
 "nbformat_minor": 5
}
